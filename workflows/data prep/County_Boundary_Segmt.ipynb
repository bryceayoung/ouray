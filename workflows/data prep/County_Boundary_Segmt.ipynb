{
 "cells": [
  {
   "cell_type": "markdown",
   "metadata": {},
   "source": [
    "# County Boundary Extraction\n",
    "\n",
    "**Author:** Bryce Young  \n",
    "\n",
    "**Date Created:** 2024-08-26  \n",
    "**Last Modified:** 2024-08-26\n",
    "\n",
    "**Overview:** This notebook imports county boundaries for Colorado, explores the dataset, and exports Gunnison and Ouray county boundaries as separate files."
   ]
  },
  {
   "cell_type": "code",
   "execution_count": 3,
   "metadata": {},
   "outputs": [
    {
     "data": {
      "text/plain": [
       "'c:\\\\Users\\\\by197116\\\\Documents\\\\Projects\\\\Ouray_ParcelRisk'"
      ]
     },
     "execution_count": 3,
     "metadata": {},
     "output_type": "execute_result"
    }
   ],
   "source": [
    "import geopandas as gpd\n",
    "import os\n",
    "\n",
    "os.getcwd()"
   ]
  },
  {
   "cell_type": "code",
   "execution_count": 4,
   "metadata": {},
   "outputs": [
    {
     "data": {
      "text/plain": [
       "<Geographic 2D CRS: GEOGCS[\"GCS_North_American_1983\",DATUM[\"D_North_Am ...>\n",
       "Name: NAD83\n",
       "Axis Info [ellipsoidal]:\n",
       "- lon[east]: Longitude (Degree)\n",
       "- lat[north]: Latitude (Degree)\n",
       "Area of Use:\n",
       "- undefined\n",
       "Datum: North American Datum 1983\n",
       "- Ellipsoid: GRS 1980\n",
       "- Prime Meridian: Greenwich"
      ]
     },
     "execution_count": 4,
     "metadata": {},
     "output_type": "execute_result"
    }
   ],
   "source": [
    "co_counties = gpd.read_file('E:/_DATA/Boundaries/Colorado_County_Boundaries/Colorado_County_Boundaries.shp')\n",
    "co_counties.crs"
   ]
  },
  {
   "cell_type": "code",
   "execution_count": 5,
   "metadata": {},
   "outputs": [
    {
     "data": {
      "text/html": [
       "<div>\n",
       "<style scoped>\n",
       "    .dataframe tbody tr th:only-of-type {\n",
       "        vertical-align: middle;\n",
       "    }\n",
       "\n",
       "    .dataframe tbody tr th {\n",
       "        vertical-align: top;\n",
       "    }\n",
       "\n",
       "    .dataframe thead th {\n",
       "        text-align: right;\n",
       "    }\n",
       "</style>\n",
       "<table border=\"1\" class=\"dataframe\">\n",
       "  <thead>\n",
       "    <tr style=\"text-align: right;\">\n",
       "      <th></th>\n",
       "      <th>OBJECTID</th>\n",
       "      <th>COUNTY</th>\n",
       "      <th>FULL</th>\n",
       "      <th>LABEL</th>\n",
       "      <th>CNTY_FIPS</th>\n",
       "      <th>NUM_FIPS</th>\n",
       "      <th>CENT_LAT</th>\n",
       "      <th>CENT_LONG</th>\n",
       "      <th>US_FIPS</th>\n",
       "      <th>geometry</th>\n",
       "    </tr>\n",
       "  </thead>\n",
       "  <tbody>\n",
       "    <tr>\n",
       "      <th>0</th>\n",
       "      <td>1</td>\n",
       "      <td>LARIMER</td>\n",
       "      <td>Larimer County</td>\n",
       "      <td>Larimer</td>\n",
       "      <td>069</td>\n",
       "      <td>69</td>\n",
       "      <td>40.666413</td>\n",
       "      <td>-105.461155</td>\n",
       "      <td>08069</td>\n",
       "      <td>POLYGON ((-105.05672 40.34928, -105.05670 40.3...</td>\n",
       "    </tr>\n",
       "    <tr>\n",
       "      <th>1</th>\n",
       "      <td>2</td>\n",
       "      <td>LAS ANIMAS</td>\n",
       "      <td>Las Animas County</td>\n",
       "      <td>Las Animas</td>\n",
       "      <td>071</td>\n",
       "      <td>71</td>\n",
       "      <td>37.315851</td>\n",
       "      <td>-104.038716</td>\n",
       "      <td>08071</td>\n",
       "      <td>POLYGON ((-104.14318 37.75833, -104.12615 37.7...</td>\n",
       "    </tr>\n",
       "    <tr>\n",
       "      <th>2</th>\n",
       "      <td>3</td>\n",
       "      <td>FREMONT</td>\n",
       "      <td>Fremont County</td>\n",
       "      <td>Fremont</td>\n",
       "      <td>043</td>\n",
       "      <td>43</td>\n",
       "      <td>38.472972</td>\n",
       "      <td>-105.439657</td>\n",
       "      <td>08043</td>\n",
       "      <td>POLYGON ((-105.36889 38.25940, -105.36909 38.2...</td>\n",
       "    </tr>\n",
       "    <tr>\n",
       "      <th>3</th>\n",
       "      <td>4</td>\n",
       "      <td>GUNNISON</td>\n",
       "      <td>Gunnison County</td>\n",
       "      <td>Gunnison</td>\n",
       "      <td>051</td>\n",
       "      <td>51</td>\n",
       "      <td>38.666798</td>\n",
       "      <td>-107.031700</td>\n",
       "      <td>08051</td>\n",
       "      <td>POLYGON ((-106.79969 38.97965, -106.80009 38.9...</td>\n",
       "    </tr>\n",
       "    <tr>\n",
       "      <th>4</th>\n",
       "      <td>5</td>\n",
       "      <td>CONEJOS</td>\n",
       "      <td>Conejos County</td>\n",
       "      <td>Conejos</td>\n",
       "      <td>021</td>\n",
       "      <td>21</td>\n",
       "      <td>37.200696</td>\n",
       "      <td>-106.191629</td>\n",
       "      <td>08021</td>\n",
       "      <td>POLYGON ((-106.14887 37.40110, -106.14753 37.4...</td>\n",
       "    </tr>\n",
       "  </tbody>\n",
       "</table>\n",
       "</div>"
      ],
      "text/plain": [
       "   OBJECTID      COUNTY               FULL       LABEL CNTY_FIPS  NUM_FIPS  \\\n",
       "0         1     LARIMER     Larimer County     Larimer       069        69   \n",
       "1         2  LAS ANIMAS  Las Animas County  Las Animas       071        71   \n",
       "2         3     FREMONT     Fremont County     Fremont       043        43   \n",
       "3         4    GUNNISON    Gunnison County    Gunnison       051        51   \n",
       "4         5     CONEJOS     Conejos County     Conejos       021        21   \n",
       "\n",
       "    CENT_LAT   CENT_LONG US_FIPS  \\\n",
       "0  40.666413 -105.461155   08069   \n",
       "1  37.315851 -104.038716   08071   \n",
       "2  38.472972 -105.439657   08043   \n",
       "3  38.666798 -107.031700   08051   \n",
       "4  37.200696 -106.191629   08021   \n",
       "\n",
       "                                            geometry  \n",
       "0  POLYGON ((-105.05672 40.34928, -105.05670 40.3...  \n",
       "1  POLYGON ((-104.14318 37.75833, -104.12615 37.7...  \n",
       "2  POLYGON ((-105.36889 38.25940, -105.36909 38.2...  \n",
       "3  POLYGON ((-106.79969 38.97965, -106.80009 38.9...  \n",
       "4  POLYGON ((-106.14887 37.40110, -106.14753 37.4...  "
      ]
     },
     "execution_count": 5,
     "metadata": {},
     "output_type": "execute_result"
    }
   ],
   "source": [
    "co_counties.head()"
   ]
  },
  {
   "cell_type": "code",
   "execution_count": 6,
   "metadata": {},
   "outputs": [],
   "source": [
    "# Change CRS to NAD 83 CONUS Albers - EPSG:5070. Change EPSG as needed.\n",
    "co_counties = co_counties.to_crs(5070)"
   ]
  },
  {
   "cell_type": "code",
   "execution_count": 7,
   "metadata": {},
   "outputs": [
    {
     "name": "stdout",
     "output_type": "stream",
     "text": [
      "(1, 10)\n",
      "(1, 10)\n"
     ]
    }
   ],
   "source": [
    "# Separate Ouray and Gunnison counties\n",
    "ouray_county_boundary = co_counties[co_counties['COUNTY'] == 'OURAY'].copy()\n",
    "gunnison_county_boundary = co_counties[co_counties['COUNTY'] == 'GUNNISON'].copy()\n",
    "\n",
    "# Make sure there is oine populated row in each shapefile\n",
    "print(ouray_county_boundary.shape)\n",
    "print(gunnison_county_boundary.shape)"
   ]
  },
  {
   "cell_type": "code",
   "execution_count": 8,
   "metadata": {},
   "outputs": [],
   "source": [
    "# Save as shapefiles\n",
    "ouray_county_boundary.to_file('E:/_DATA/Boundaries/Colorado_County_Boundaries/Ouray_County_Boundary.shp') # Change paths as needed\n",
    "gunnison_county_boundary.to_file('E:/_DATA/Boundaries/Colorado_County_Boundaries/Gunnison_County_Boundary.shp')"
   ]
  }
 ],
 "metadata": {
  "kernelspec": {
   "display_name": "rspatial",
   "language": "python",
   "name": "python3"
  },
  "language_info": {
   "codemirror_mode": {
    "name": "ipython",
    "version": 3
   },
   "file_extension": ".py",
   "mimetype": "text/x-python",
   "name": "python",
   "nbconvert_exporter": "python",
   "pygments_lexer": "ipython3",
   "version": "3.11.3"
  }
 },
 "nbformat": 4,
 "nbformat_minor": 2
}
