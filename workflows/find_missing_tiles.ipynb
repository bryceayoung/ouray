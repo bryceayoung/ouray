{
 "cells": [
  {
   "cell_type": "markdown",
   "metadata": {},
   "source": [
    "# Find Missing Tiles from LAS Catalog\n",
    "\n",
    "**Overview**: I plotted my LAScatalog in R and see that there are some empty tile spaces in the analysis area. Fortunately for me, only about 17 out of 1372 are missing. All of the file names are identical except for a number within the file name. In this notebook, I write a script to search through these file names and create a list of numbers that were skipped. For instance, if `usgs_lpc_co_sanluisjuanmiguel_2020_d20_13s_bc_3746.las` and `usgs_lpc_co_sanluisjuanmiguel_2020_d20_13s_bc_3748.las` both exist, then my script will append `usgs_lpc_co_sanluisjuanmiguel_2020_d20_13s_bc_3747.las` to a list. I can then search for that file in my explorer using a script, or I can download it directly from the Colorado LiDAR website. "
   ]
  },
  {
   "cell_type": "code",
   "execution_count": 1,
   "metadata": {},
   "outputs": [],
   "source": [
    "# Import libraries\n",
    "import os\n",
    "import re"
   ]
  },
  {
   "cell_type": "code",
   "execution_count": 2,
   "metadata": {},
   "outputs": [
    {
     "name": "stdout",
     "output_type": "stream",
     "text": [
      "Missing file names: 20\n",
      "['usgs_lpc_co_sanluisjuanmiguel_2020_d20_13s_bc_4520.las', 'usgs_lpc_co_sanluisjuanmiguel_2020_d20_13s_bc_4521.las', 'usgs_lpc_co_sanluisjuanmiguel_2020_d20_13s_bc_4832.las', 'usgs_lpc_co_sanluisjuanmiguel_2020_d20_13s_bc_5138.las', 'usgs_lpc_co_sanluisjuanmiguel_2020_d20_13s_bc_5243.las', 'usgs_lpc_co_sanluisjuanmiguel_2020_d20_13s_bc_5625.las', 'usgs_lpc_co_sanluisjuanmiguel_2020_d20_13s_bc_5937.las', 'usgs_lpc_co_sanluisjuanmiguel_2020_d20_13s_bc_6019.las', 'usgs_lpc_co_sanluisjuanmiguel_2020_d20_13s_bc_6036.las', 'usgs_lpc_co_sanluisjuanmiguel_2020_d20_13s_bc_6043.las', 'usgs_lpc_co_sanluisjuanmiguel_2020_d20_13s_bc_6210.las', 'usgs_lpc_co_sanluisjuanmiguel_2020_d20_13s_bc_6221.las', 'usgs_lpc_co_sanluisjuanmiguel_2020_d20_13s_bc_6418.las', 'usgs_lpc_co_sanluisjuanmiguel_2020_d20_13s_bc_6441.las', 'usgs_lpc_co_sanluisjuanmiguel_2020_d20_13s_bc_6533.las', 'usgs_lpc_co_sanluisjuanmiguel_2020_d20_13s_bc_6541.las', 'usgs_lpc_co_sanluisjuanmiguel_2020_d20_13s_bc_6820.las', 'usgs_lpc_co_sanluisjuanmiguel_2020_d20_13s_bc_7307.las', 'usgs_lpc_co_sanluisjuanmiguel_2020_d20_13s_bc_7319.las', 'usgs_lpc_co_sanluisjuanmiguel_2020_d20_13s_bc_7323.las']\n"
     ]
    }
   ],
   "source": [
    "# Define the directory, which is the LAScatalog\n",
    "las_directory = r'F:/_BRYCE/LiDAR/Ouray_County/las_catalog'\n",
    "\n",
    "# File prefix and suffix\n",
    "file_prefix = \"usgs_lpc_co_sanluisjuanmiguel_2020_d20_13s_bc_\"\n",
    "file_suffix = \".las\"\n",
    "\n",
    "# Regex pattern to extract the number from the filename\n",
    "pattern = r'usgs_lpc_co_sanluisjuanmiguel_2020_d20_13s_bc_(\\d+)\\.las'\n",
    "\n",
    "# Create a list to store the tile numbers\n",
    "tile_numbers = []\n",
    "\n",
    "# Loop through the LAS catalog directory and extract tile numbers\n",
    "for filename in os.listdir(las_directory):\n",
    "    match = re.match(pattern, filename)\n",
    "    if match:\n",
    "        tile_numbers.append(int(match.group(1)))  # Extract the tile number and convert it to an integer so it can be sorted\n",
    "\n",
    "# Sort the tile numbers\n",
    "tile_numbers.sort()\n",
    "\n",
    "# Identify missing numbers where one or two numbers are missing in sequence\n",
    "missing_files = []\n",
    "for i in range(len(tile_numbers) - 1):\n",
    "    gap = tile_numbers[i+1] - tile_numbers[i]\n",
    "    if gap == 2:  # One tile missing\n",
    "        missing_files.append(f\"{file_prefix}{tile_numbers[i] + 1}{file_suffix}\")\n",
    "    elif gap == 3:  # Two tiles missing\n",
    "        missing_files.append(f\"{file_prefix}{tile_numbers[i] + 1}{file_suffix}\")\n",
    "        missing_files.append(f\"{file_prefix}{tile_numbers[i] + 2}{file_suffix}\")\n",
    "\n",
    "# Output\n",
    "print(\"Missing file names:\", len(missing_files))\n",
    "print(missing_files)"
   ]
  },
  {
   "cell_type": "code",
   "execution_count": 4,
   "metadata": {},
   "outputs": [
    {
     "data": {
      "text/plain": [
       "['usgs_lpc_co_sanluisjuanmiguel_2020_d20_13s_bc_4520.las',\n",
       " 'usgs_lpc_co_sanluisjuanmiguel_2020_d20_13s_bc_4521.las',\n",
       " 'usgs_lpc_co_sanluisjuanmiguel_2020_d20_13s_bc_4832.las',\n",
       " 'usgs_lpc_co_sanluisjuanmiguel_2020_d20_13s_bc_5138.las',\n",
       " 'usgs_lpc_co_sanluisjuanmiguel_2020_d20_13s_bc_5243.las',\n",
       " 'usgs_lpc_co_sanluisjuanmiguel_2020_d20_13s_bc_5625.las',\n",
       " 'usgs_lpc_co_sanluisjuanmiguel_2020_d20_13s_bc_5937.las',\n",
       " 'usgs_lpc_co_sanluisjuanmiguel_2020_d20_13s_bc_6019.las',\n",
       " 'usgs_lpc_co_sanluisjuanmiguel_2020_d20_13s_bc_6036.las',\n",
       " 'usgs_lpc_co_sanluisjuanmiguel_2020_d20_13s_bc_6043.las',\n",
       " 'usgs_lpc_co_sanluisjuanmiguel_2020_d20_13s_bc_6210.las',\n",
       " 'usgs_lpc_co_sanluisjuanmiguel_2020_d20_13s_bc_6221.las',\n",
       " 'usgs_lpc_co_sanluisjuanmiguel_2020_d20_13s_bc_6418.las',\n",
       " 'usgs_lpc_co_sanluisjuanmiguel_2020_d20_13s_bc_6441.las',\n",
       " 'usgs_lpc_co_sanluisjuanmiguel_2020_d20_13s_bc_6533.las',\n",
       " 'usgs_lpc_co_sanluisjuanmiguel_2020_d20_13s_bc_6541.las',\n",
       " 'usgs_lpc_co_sanluisjuanmiguel_2020_d20_13s_bc_6820.las',\n",
       " 'usgs_lpc_co_sanluisjuanmiguel_2020_d20_13s_bc_7307.las',\n",
       " 'usgs_lpc_co_sanluisjuanmiguel_2020_d20_13s_bc_7319.las',\n",
       " 'usgs_lpc_co_sanluisjuanmiguel_2020_d20_13s_bc_7323.las']"
      ]
     },
     "execution_count": 4,
     "metadata": {},
     "output_type": "execute_result"
    }
   ],
   "source": [
    "missing_files"
   ]
  },
  {
   "cell_type": "markdown",
   "metadata": {},
   "source": [
    "We have identified 20 missing tiles, which seems right, judging by the plot. Now we're going to search the fishnet folders for these file names and extract the name of the fishnet folder associated with the missing file. If there are none, then I will have to go onto the website and download these individually, which shouldn't take long."
   ]
  },
  {
   "cell_type": "code",
   "execution_count": 3,
   "metadata": {},
   "outputs": [
    {
     "name": "stdout",
     "output_type": "stream",
     "text": [
      "Missing files found in the following folders:\n"
     ]
    }
   ],
   "source": [
    "import os\n",
    "\n",
    "# base directory containing the fishnet folders\n",
    "base_dir = r'F:/_BRYCE/LiDAR/Ouray_County/fishnet_tiles'\n",
    "\n",
    "# List of missing files (replace this with the output from the previous script)\n",
    "# missing_files = [\n",
    "#     \"usgs_lpc_co_sanluisjuanmiguel_2020_d20_13s_bc_3747.las\",\n",
    "#     \"usgs_lpc_co_sanluisjuanmiguel_2020_d20_13s_bc_3748.las\"\n",
    "# ]\n",
    "\n",
    "# Dictionary to store the folder where each missing file is found\n",
    "found_files = {}\n",
    "\n",
    "# Loop through all fishnet folders (fishnet_1 to fishnet_23)\n",
    "for folder_num in range(1, 24):\n",
    "    folder_path = os.path.join(base_dir, f'fishnet_{folder_num}')\n",
    "    \n",
    "    # Check if the folder exists\n",
    "    if os.path.exists(folder_path):\n",
    "        # Loop through the missing files\n",
    "        for missing_file in missing_files:\n",
    "            # Check if the missing file is in the current folder\n",
    "            if missing_file in os.listdir(folder_path):\n",
    "                # Add the folder and file to the dictionary\n",
    "                found_files[missing_file] = f'fishnet_{folder_num}'\n",
    "\n",
    "# Output the dictionary\n",
    "print(\"Missing files found in the following folders:\")\n",
    "for file, folder in found_files.items():\n",
    "    print(f\"{file} found in {folder}\")\n"
   ]
  },
  {
   "cell_type": "markdown",
   "metadata": {},
   "source": [
    "Okay, they don't exist in my files, which means that nothing went wrong when I was adding files to the LAS catalog, but that something went wrong when lassoing files from the website.\n",
    "\n",
    "I was able to search the website database and find all the tiles fairly quickly. It was also helpful to see the tiles displayed on the map, because I could see that the tiles I ended up selecting matched the pattern of the tiles that showed up missing when I plotted my LAScatalog in R."
   ]
  }
 ],
 "metadata": {
  "kernelspec": {
   "display_name": "Python 3",
   "language": "python",
   "name": "python3"
  },
  "language_info": {
   "codemirror_mode": {
    "name": "ipython",
    "version": 3
   },
   "file_extension": ".py",
   "mimetype": "text/x-python",
   "name": "python",
   "nbconvert_exporter": "python",
   "pygments_lexer": "ipython3",
   "version": "3.12.2"
  }
 },
 "nbformat": 4,
 "nbformat_minor": 2
}
