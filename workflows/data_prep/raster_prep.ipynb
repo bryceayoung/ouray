{
 "cells": [
  {
   "cell_type": "markdown",
   "metadata": {},
   "source": [
    "# Ouray Raster Prep\n",
    "\n",
    "Author: **Bryce A Young** | \n",
    "Created: **2024-12-06** | \n",
    "Modified: **2024-12-06**\n",
    "\n",
    "In this notebook, I prepare rasters so that they are the proper CRS, extents, dtypes, nodata etc. for use in the Ouray analysis. These rasters are used in `hiz/ouray_hiz.ipynb` which can be found in this repository. \n",
    "\n",
    "#### Data \n",
    "- SILVIS Global WUI\n",
    "- LiDAR-derived rasters\n",
    "- Ouray County Boundary\n",
    "\n",
    "#### Workflow \n",
    "1. Explore metadata of all the rasters. \n",
    "2. Create snap rasters and extent rasters from Ouray County boundary\n",
    "    - 1m rasters\n",
    "    - 10m rasters\n",
    "3. Use extent rasters to ensure common raster sizes and extents\n",
    "4. Reproject SILVIS rasters to match county rasters\n",
    "5. Mosaic SILVIS rasters to create one single raster. \n",
    "6. Clip SILVIS raster to county boundary\n",
    "\n",
    "## Step 1: Import rasters and explore metadata"
   ]
  },
  {
   "cell_type": "code",
   "execution_count": 1,
   "metadata": {},
   "outputs": [],
   "source": [
    "# Define frequently used path\n",
    "data_path = 'E:/_PROJECTS/Ouray_ParcelRisk/data'"
   ]
  },
  {
   "cell_type": "code",
   "execution_count": 7,
   "metadata": {},
   "outputs": [
    {
     "ename": "NameError",
     "evalue": "name 'rio' is not defined",
     "output_type": "error",
     "traceback": [
      "\u001b[1;31m---------------------------------------------------------------------------\u001b[0m",
      "\u001b[1;31mNameError\u001b[0m                                 Traceback (most recent call last)",
      "Cell \u001b[1;32mIn[7], line 6\u001b[0m\n\u001b[0;32m      3\u001b[0m \u001b[38;5;28;01mfrom\u001b[39;00m \u001b[38;5;21;01mutils\u001b[39;00m\u001b[38;5;21;01m.\u001b[39;00m\u001b[38;5;21;01mraster\u001b[39;00m \u001b[38;5;28;01mimport\u001b[39;00m read_raster\n\u001b[0;32m      5\u001b[0m \u001b[38;5;66;03m# Import two of the las rasters for comparison\u001b[39;00m\n\u001b[1;32m----> 6\u001b[0m zentropy, zentropy_profile \u001b[38;5;241m=\u001b[39m read_raster(\u001b[38;5;124mf\u001b[39m\u001b[38;5;124m'\u001b[39m\u001b[38;5;132;01m{\u001b[39;00mdata_path\u001b[38;5;132;01m}\u001b[39;00m\u001b[38;5;124m/tiffs_from_las/ouray_zentropy.tif\u001b[39m\u001b[38;5;124m'\u001b[39m, profile\u001b[38;5;241m=\u001b[39m\u001b[38;5;28;01mTrue\u001b[39;00m)\n\u001b[0;32m      7\u001b[0m chm, chm_profile \u001b[38;5;241m=\u001b[39m read_raster(\u001b[38;5;124mf\u001b[39m\u001b[38;5;124m'\u001b[39m\u001b[38;5;132;01m{\u001b[39;00mdata_path\u001b[38;5;132;01m}\u001b[39;00m\u001b[38;5;124m/tiffs_from_las/ouray_chm.tif\u001b[39m\u001b[38;5;124m'\u001b[39m, profile\u001b[38;5;241m=\u001b[39m\u001b[38;5;28;01mTrue\u001b[39;00m)\n\u001b[0;32m      9\u001b[0m \u001b[38;5;66;03m# Import Global WUI rasters\u001b[39;00m\n",
      "File \u001b[1;32me:\\_PROJECTS\\Ouray_ParcelRisk\\ouray\\utils\\raster.py:77\u001b[0m, in \u001b[0;36mread_raster\u001b[1;34m(file_path, layer, transform, shape, profile, crs)\u001b[0m\n\u001b[0;32m     50\u001b[0m \u001b[38;5;28;01mdef\u001b[39;00m \u001b[38;5;21mread_raster\u001b[39m(file_path, layer\u001b[38;5;241m=\u001b[39m\u001b[38;5;28;01mNone\u001b[39;00m, transform\u001b[38;5;241m=\u001b[39m\u001b[38;5;28;01mFalse\u001b[39;00m, shape\u001b[38;5;241m=\u001b[39m\u001b[38;5;28;01mFalse\u001b[39;00m, profile\u001b[38;5;241m=\u001b[39m\u001b[38;5;28;01mFalse\u001b[39;00m, crs\u001b[38;5;241m=\u001b[39m\u001b[38;5;28;01mFalse\u001b[39;00m):\n\u001b[0;32m     51\u001b[0m \u001b[38;5;250m    \u001b[39m\u001b[38;5;124;03m\"\"\"\u001b[39;00m\n\u001b[0;32m     52\u001b[0m \u001b[38;5;124;03m    Reads rasters and assigns them to numpy array objects\u001b[39;00m\n\u001b[0;32m     53\u001b[0m \n\u001b[1;32m   (...)\u001b[0m\n\u001b[0;32m     75\u001b[0m \n\u001b[0;32m     76\u001b[0m \u001b[38;5;124;03m    \"\"\"\u001b[39;00m\n\u001b[1;32m---> 77\u001b[0m     \u001b[38;5;28;01mwith\u001b[39;00m rio\u001b[38;5;241m.\u001b[39mopen(file_path) \u001b[38;5;28;01mas\u001b[39;00m src:\n\u001b[0;32m     78\u001b[0m         data \u001b[38;5;241m=\u001b[39m src\u001b[38;5;241m.\u001b[39mread(layer)\n\u001b[0;32m     79\u001b[0m         return_values \u001b[38;5;241m=\u001b[39m [data]\n",
      "\u001b[1;31mNameError\u001b[0m: name 'rio' is not defined"
     ]
    }
   ],
   "source": [
    "import rasterio as rio\n",
    "import numpy as np\n",
    "from utils.raster import read_raster\n",
    "\n",
    "# Import two of the las rasters for comparison\n",
    "zentropy, zentropy_profile = read_raster(f'{data_path}/tiffs_from_las/ouray_zentropy.tif', profile=True)\n",
    "chm, chm_profile = read_raster(f'{data_path}/tiffs_from_las/ouray_chm.tif', profile=True)\n",
    "\n",
    "# Import Global WUI rasters\n",
    "wui1, wui1_prof = read_raster(f'{data_path}/silvis_wui/X0073_Y0064/WUI.tif', profile=True)\n",
    "wui2, wui2_prof = read_raster(f'{data_path}/silvis_wui/X0073_Y0065/WUI.tif', profile=True)\n",
    "\n",
    "# Compare profiles visually\n",
    "print('zentropy: ', zentropy_profile)\n",
    "print('chm: ', chm_profile)\n",
    "print('wui1: ', wui1_prof)\n",
    "print('wui2: ', wui2_prof)"
   ]
  }
 ],
 "metadata": {
  "kernelspec": {
   "display_name": "base",
   "language": "python",
   "name": "python3"
  },
  "language_info": {
   "codemirror_mode": {
    "name": "ipython",
    "version": 3
   },
   "file_extension": ".py",
   "mimetype": "text/x-python",
   "name": "python",
   "nbconvert_exporter": "python",
   "pygments_lexer": "ipython3",
   "version": "3.11.3"
  }
 },
 "nbformat": 4,
 "nbformat_minor": 2
}
