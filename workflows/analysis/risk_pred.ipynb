{
 "cells": [
  {
   "cell_type": "markdown",
   "metadata": {},
   "source": [
    "#### Random Forest classifier\n",
    "We will split the data into training, validation, and testing. We will create a random forest classifier and train it then test on val data while tuning the model params. "
   ]
  },
  {
   "cell_type": "code",
   "execution_count": null,
   "metadata": {},
   "outputs": [],
   "source": [
    "# Predicitons with Random Forest\n",
    "# CREATE A TRAIN-TEST SPLIT AND FIT A RF CLASSIFIER\n",
    "from sklearn.ensemble import RandomForestClassifier\n",
    "from sklearn.model_selection import train_test_split\n",
    "from sklearn.metrics import accuracy_score, classification_report\n",
    "\n",
    "# Select predictors and target variable\n",
    "predictors = df[['predictor_column1', 'predictor_column2', 'predictor_column3']]\n",
    "target = df['RISK.SCORE']\n",
    "\n",
    "# Split the data into training and testing sets\n",
    "X_train, X_test, y_train, y_test = train_test_split(predictors, target, test_size=0.2, random_state=42)\n",
    "\n",
    "# Create a random forest classifier\n",
    "rf_classifier = RandomForestClassifier(n_estimators=100, random_state=42)\n",
    "\n",
    "# Fit the model on the training data\n",
    "rf_classifier.fit(X_train, y_train)\n",
    "\n",
    "# Make predictions on the test data\n",
    "y_pred = rf_classifier.predict(X_test)\n",
    "\n",
    "# Evaluate the model\n",
    "accuracy = accuracy_score(y_test, y_pred)\n",
    "print(f'Accuracy: {accuracy:.2f}')\n",
    "\n",
    "# Print classification report\n",
    "print(classification_report(y_test, y_pred))"
   ]
  },
  {
   "cell_type": "markdown",
   "metadata": {},
   "source": [
    "## Validation"
   ]
  },
  {
   "cell_type": "markdown",
   "metadata": {},
   "source": [
    "Let's create a confusion matrix of prediction labels and true labels and plot it in a heat map to visualize how close we came."
   ]
  },
  {
   "cell_type": "code",
   "execution_count": null,
   "metadata": {},
   "outputs": [],
   "source": []
  },
  {
   "cell_type": "markdown",
   "metadata": {},
   "source": [
    "We will get precision, recall and f1 score for each class."
   ]
  },
  {
   "cell_type": "code",
   "execution_count": null,
   "metadata": {},
   "outputs": [],
   "source": []
  },
  {
   "cell_type": "markdown",
   "metadata": {},
   "source": [
    "Let's produce an ROC curve for each class in the model"
   ]
  },
  {
   "cell_type": "code",
   "execution_count": null,
   "metadata": {},
   "outputs": [],
   "source": []
  },
  {
   "cell_type": "markdown",
   "metadata": {},
   "source": [
    "## Ordinal analysis\n",
    "Let's convert the target variable to ordinal. Then we can create a confusion matrix and extract the cumulative metrics. Then we extract the cumulative precision across ordinal classes."
   ]
  },
  {
   "cell_type": "markdown",
   "metadata": {},
   "source": [
    "## Classification by Logistic Regression\n",
    "\n",
    "Here we import the data and plot to see whether logistic regression is appropriate for the analysis. We do this with continuous variables."
   ]
  },
  {
   "cell_type": "code",
   "execution_count": null,
   "metadata": {},
   "outputs": [],
   "source": [
    "import pandas as pd\n",
    "import numpy as np\n",
    "from sklearn.model_selection import StratifiedShuffleSplit as strat\n",
    "import matplotlib.pyplot as plt\n",
    "\n",
    "# Read the data into the script\n",
    "df = pd.read_csv('A3_Q1_data.csv')\n",
    "\n",
    "# Convert df to numpy array\n",
    "data = df.values\n",
    "\n",
    "# Extract features and labels\n",
    "X = data[:, :-1]  # Features x_1 and x_2\n",
    "y = data[:, -1]   # Labels y\n",
    "\n",
    "# Create stratified split\n",
    "split = strat(n_splits=1, test_size=0.3, random_state=42)\n",
    "\n",
    "# Perform the split\n",
    "for train_index, test_index in split.split(X, y):\n",
    "    X_train, X_test = X[train_index], X[test_index]\n",
    "    y_train, y_test = y[train_index], y[test_index]\n",
    "\n",
    "# See the split outcome for confirmation\n",
    "print(\"X_train shape:\", X_train.shape)\n",
    "print(\"X_test shape:\", X_test.shape)\n",
    "print(\"y_train shape:\", y_train.shape)\n",
    "print(\"y_test shape:\", y_test.shape)\n",
    "\n",
    "# Plot the training data by class\n",
    "plt.scatter(X_train[y_train == 0, 0], X_train[y_train == 0, 1], color='orchid', label='Class 0')\n",
    "plt.scatter(X_train[y_train == 1, 0], X_train[y_train == 1, 1], color='steelblue', label='Class 1')\n",
    "\n",
    "plt.xlabel('Feature x_1')\n",
    "plt.ylabel('Feature x_2')\n",
    "plt.title('Training Data by Class')\n",
    "plt.legend()\n",
    "plt.show()"
   ]
  },
  {
   "cell_type": "code",
   "execution_count": null,
   "metadata": {},
   "outputs": [],
   "source": [
    "# Calculations for x_1\n",
    "x1_mean = np.mean(X_train[:, 0])\n",
    "x1_std = np.std(X_train[:, 0])\n",
    "x1_range = np.ptp(X_train[:, 0])\n",
    "\n",
    "# Calculations for x_2\n",
    "x2_mean = np.mean(X_train[:, 1])\n",
    "x2_std = np.std(X_train[:, 1])\n",
    "x2_range = np.ptp(X_train[:, 1])\n",
    "\n",
    "# Print the results\n",
    "print(\"Feature x_1:\")\n",
    "print(f\"Mean: {x1_mean: .4f}, Standard Deviation: {x1_std: .4f}, Range: {x1_range: .4f}\")\n",
    "print(\"\\nFeature x_2:\")\n",
    "print(f\"Mean: {x2_mean: .4f}, Standard Deviation: {x2_std: .4f}, Range: {x2_range: .4f}\")"
   ]
  },
  {
   "cell_type": "markdown",
   "metadata": {},
   "source": [
    "If logistic regression is appropriate for this analysis, refer to  assignment 3 for fitting, gradient descent, AUC and precision-recall."
   ]
  }
 ],
 "metadata": {
  "language_info": {
   "name": "python"
  }
 },
 "nbformat": 4,
 "nbformat_minor": 2
}
