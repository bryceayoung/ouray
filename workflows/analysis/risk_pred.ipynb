{
 "cells": [
  {
   "cell_type": "markdown",
   "metadata": {},
   "source": [
    "\n",
    "# Risk Prediction - Ouray County Parcvel Risk\n",
    "**Author:** Bryce A Young  \n",
    "**Created:** 2025-01-17 | \n",
    "**Modified:** 2025-01-17  \n",
    "\n",
    "#### Overview\n",
    "This notebook trains and tests various supervized machine learning models to predict home risk scores. For each model, we explore and tune the parameters to minimize loss, and we analyze the suitability of each model."
   ]
  }
 ],
 "metadata": {
  "language_info": {
   "name": "python"
  }
 },
 "nbformat": 4,
 "nbformat_minor": 2
}
