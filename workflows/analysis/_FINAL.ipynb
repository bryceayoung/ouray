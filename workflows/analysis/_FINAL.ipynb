{
 "cells": [
  {
   "cell_type": "markdown",
   "metadata": {},
   "source": [
    "# Final Compliation - Ouray County Parcel Risk\n",
    "**Author:** Bryce A Young  \n",
    "**Created:** 2025-03-11 | \n",
    "**Modified:** 2025-03-11  \n",
    "\n",
    "#### Overview\n",
    "This notebook shows the salient points of predictions, clustering, and analysis for the Ouray Parcel Risk project. Consider this the highlight reel of the analysis folder in this repository.\n",
    "\n",
    "This notebook compiles code from `risk_pred.ipynb`, `clustering.ipynb` and `structure_archetypes.ipynb`. Data from those notebooks is used in the present notebook and cleaned further. \n",
    "\n",
    "Final figures are produced and exported for presentations and for use in Chapters 2 and 3 of my masters thesis (risk score predictions and structure archetypes).\n",
    "\n",
    "## Environment Setup\n",
    "---"
   ]
  },
  {
   "cell_type": "code",
   "execution_count": 1,
   "metadata": {},
   "outputs": [
    {
     "data": {
      "text/plain": [
       "'D:\\\\_PROJECTS\\\\P001_OurayParcel\\\\ouray'"
      ]
     },
     "execution_count": 1,
     "metadata": {},
     "output_type": "execute_result"
    }
   ],
   "source": [
    "# setup environment\n",
    "import os\n",
    "### Directory ###\n",
    "# Repository\n",
    "os.chdir(r'D:/_PROJECTS/P001_OurayParcel/ouray')\n",
    "# Root workspace\n",
    "ws = r'D:/_PROJECTS/P001_OurayParcel'\n",
    "\n",
    "### Data paths ###\n",
    "# Folder where all the data inputs and outputs will live\n",
    "data = os.path.join(ws, 'data')\n",
    "# Scratch folder for intermediate files\n",
    "scratch = os.path.join(data, '_temp')\n",
    "# Any final outputs go here\n",
    "out = os.path.join(data, '_out')\n",
    "# Figures to export\n",
    "figs = os.path.join(out, 'figures')\n",
    "\n",
    "# correct working directory\n",
    "os.getcwd()"
   ]
  }
 ],
 "metadata": {
  "kernelspec": {
   "display_name": "parcel",
   "language": "python",
   "name": "python3"
  },
  "language_info": {
   "codemirror_mode": {
    "name": "ipython",
    "version": 3
   },
   "file_extension": ".py",
   "mimetype": "text/x-python",
   "name": "python",
   "nbconvert_exporter": "python",
   "pygments_lexer": "ipython3",
   "version": "3.13.1"
  }
 },
 "nbformat": 4,
 "nbformat_minor": 2
}
