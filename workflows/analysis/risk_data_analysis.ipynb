{
 "cells": [
  {
   "cell_type": "markdown",
   "metadata": {},
   "source": [
    "\n",
    "# Risk Prediction - Ouray County Parcel Risk\n",
    "**Author:** Bryce A Young  \n",
    "**Created:** 2025-01-17 | \n",
    "**Modified:** 2025-02-21 \n",
    "\n",
    "#### Overview\n",
    "This notebook trains and tests various supervized machine learning models to predict home risk scores. For each model, we explore and tune the parameters to minimize loss, and we analyze the suitability of each model.\n",
    "\n",
    "## Step 0: Setup Environment\n",
    "---"
   ]
  },
  {
   "cell_type": "code",
   "execution_count": 2,
   "metadata": {},
   "outputs": [
    {
     "data": {
      "text/plain": [
       "'D:\\\\_PROJECTS\\\\P001_OurayParcel\\\\ouray'"
      ]
     },
     "execution_count": 2,
     "metadata": {},
     "output_type": "execute_result"
    }
   ],
   "source": [
    "import os\n",
    "### Directory ###\n",
    "# Repository\n",
    "os.chdir(r'D:/_PROJECTS/P001_OurayParcel/ouray')\n",
    "# Root workspace\n",
    "ws = r'D:/_PROJECTS/P001_OurayParcel'\n",
    "\n",
    "### Data paths ###\n",
    "# Folder where all the data inputs and outputs will live\n",
    "data = os.path.join(ws, 'data')\n",
    "# Folder with feature set\n",
    "feat_path = os.path.join(data, '_out')\n",
    "# Folder with risk scores\n",
    "scores = os.path.join(data, 'wrwc_rwra')\n",
    "# Scratch folder for intermediate files\n",
    "scratch = os.path.join(data, '_temp')\n",
    "# Any final outputs go here\n",
    "out = os.path.join(data, '_out')\n",
    "# Figures to export\n",
    "figs = os.path.join(out, 'figures')\n",
    "\n",
    "# Ensure correct working directory\n",
    "os.getcwd()"
   ]
  },
  {
   "cell_type": "markdown",
   "metadata": {},
   "source": [
    "## Step 1: Examine Risk Score Data\n",
    "---"
   ]
  },
  {
   "cell_type": "code",
   "execution_count": 3,
   "metadata": {},
   "outputs": [],
   "source": [
    "import pandas as pd\n",
    "import geopandas as gpd\n",
    "import matplotlib.pyplot as plt\n",
    "\n",
    "# Set option to show all columns when displaying dataframes and geodataframes\n",
    "pd.set_option('display.max_columns', None)\n",
    "\n",
    "wrwc_df = pd.read_csv(os.path.join(scores, 'WRWC_RWRA.csv'))\n",
    "wrwc_gdf = gpd.read_file(os.path.join(scores, r'WRWC_RWRA_geopackage/WRWC_Data.gdb'))"
   ]
  },
  {
   "cell_type": "code",
   "execution_count": 4,
   "metadata": {},
   "outputs": [
    {
     "data": {
      "text/html": [
       "<div>\n",
       "<style scoped>\n",
       "    .dataframe tbody tr th:only-of-type {\n",
       "        vertical-align: middle;\n",
       "    }\n",
       "\n",
       "    .dataframe tbody tr th {\n",
       "        vertical-align: top;\n",
       "    }\n",
       "\n",
       "    .dataframe thead th {\n",
       "        text-align: right;\n",
       "    }\n",
       "</style>\n",
       "<table border=\"1\" class=\"dataframe\">\n",
       "  <thead>\n",
       "    <tr style=\"text-align: right;\">\n",
       "      <th></th>\n",
       "      <th>Year</th>\n",
       "      <th>address</th>\n",
       "      <th>ParcelNum</th>\n",
       "      <th>Model</th>\n",
       "      <th>Address_Visible</th>\n",
       "      <th>Driveway_Clearance</th>\n",
       "      <th>Driveway_Lenth</th>\n",
       "      <th>Dist_to_Danger_Topo</th>\n",
       "      <th>Slope_Final</th>\n",
       "      <th>Background_Fuels</th>\n",
       "      <th>Defensible_Space</th>\n",
       "      <th>Roofing_Material</th>\n",
       "      <th>Building_Exterior</th>\n",
       "      <th>Other_Combustibles</th>\n",
       "      <th>Decks_and_Fencing</th>\n",
       "      <th>Proximity_to_Neighboring_Home</th>\n",
       "      <th>Ingress_Egress</th>\n",
       "      <th>Score_Final</th>\n",
       "      <th>Risk_Rating</th>\n",
       "      <th>geometry</th>\n",
       "    </tr>\n",
       "  </thead>\n",
       "  <tbody>\n",
       "    <tr>\n",
       "      <th>0</th>\n",
       "      <td>2013.0</td>\n",
       "      <td>21932 2225 RD</td>\n",
       "      <td>297931200016</td>\n",
       "      <td>A</td>\n",
       "      <td>0</td>\n",
       "      <td>0</td>\n",
       "      <td>NaN</td>\n",
       "      <td>0</td>\n",
       "      <td>NaN</td>\n",
       "      <td>75</td>\n",
       "      <td>50</td>\n",
       "      <td>0</td>\n",
       "      <td>0</td>\n",
       "      <td>30</td>\n",
       "      <td>0</td>\n",
       "      <td>NaN</td>\n",
       "      <td>10</td>\n",
       "      <td>165</td>\n",
       "      <td>Moderate</td>\n",
       "      <td>POINT Z (-107.94621 38.9729 0)</td>\n",
       "    </tr>\n",
       "    <tr>\n",
       "      <th>1</th>\n",
       "      <td>2013.0</td>\n",
       "      <td>21944 2225 RD</td>\n",
       "      <td>297931200018</td>\n",
       "      <td>A</td>\n",
       "      <td>0</td>\n",
       "      <td>0</td>\n",
       "      <td>NaN</td>\n",
       "      <td>0</td>\n",
       "      <td>NaN</td>\n",
       "      <td>75</td>\n",
       "      <td>50</td>\n",
       "      <td>0</td>\n",
       "      <td>60</td>\n",
       "      <td>30</td>\n",
       "      <td>50</td>\n",
       "      <td>NaN</td>\n",
       "      <td>10</td>\n",
       "      <td>275</td>\n",
       "      <td>Very High</td>\n",
       "      <td>POINT Z (-107.947 38.9732 0)</td>\n",
       "    </tr>\n",
       "    <tr>\n",
       "      <th>2</th>\n",
       "      <td>2013.0</td>\n",
       "      <td>21939 2225 RD</td>\n",
       "      <td>297931200061</td>\n",
       "      <td>A</td>\n",
       "      <td>0</td>\n",
       "      <td>5</td>\n",
       "      <td>NaN</td>\n",
       "      <td>75</td>\n",
       "      <td>NaN</td>\n",
       "      <td>50</td>\n",
       "      <td>100</td>\n",
       "      <td>0</td>\n",
       "      <td>60</td>\n",
       "      <td>10</td>\n",
       "      <td>50</td>\n",
       "      <td>NaN</td>\n",
       "      <td>10</td>\n",
       "      <td>360</td>\n",
       "      <td>Extreme</td>\n",
       "      <td>POINT Z (-107.94698 38.97218 0)</td>\n",
       "    </tr>\n",
       "    <tr>\n",
       "      <th>3</th>\n",
       "      <td>2013.0</td>\n",
       "      <td>21961 2225 RD</td>\n",
       "      <td>297931200060</td>\n",
       "      <td>A</td>\n",
       "      <td>0</td>\n",
       "      <td>0</td>\n",
       "      <td>NaN</td>\n",
       "      <td>75</td>\n",
       "      <td>NaN</td>\n",
       "      <td>50</td>\n",
       "      <td>75</td>\n",
       "      <td>0</td>\n",
       "      <td>60</td>\n",
       "      <td>30</td>\n",
       "      <td>50</td>\n",
       "      <td>NaN</td>\n",
       "      <td>10</td>\n",
       "      <td>350</td>\n",
       "      <td>Extreme</td>\n",
       "      <td>POINT Z (-107.9474 38.97219 0)</td>\n",
       "    </tr>\n",
       "    <tr>\n",
       "      <th>4</th>\n",
       "      <td>2013.0</td>\n",
       "      <td>21973 2225 RD</td>\n",
       "      <td>297931200021</td>\n",
       "      <td>A</td>\n",
       "      <td>0</td>\n",
       "      <td>0</td>\n",
       "      <td>NaN</td>\n",
       "      <td>75</td>\n",
       "      <td>NaN</td>\n",
       "      <td>50</td>\n",
       "      <td>75</td>\n",
       "      <td>0</td>\n",
       "      <td>60</td>\n",
       "      <td>30</td>\n",
       "      <td>50</td>\n",
       "      <td>NaN</td>\n",
       "      <td>10</td>\n",
       "      <td>350</td>\n",
       "      <td>Extreme</td>\n",
       "      <td>POINT Z (-107.948 38.9723 0)</td>\n",
       "    </tr>\n",
       "  </tbody>\n",
       "</table>\n",
       "</div>"
      ],
      "text/plain": [
       "     Year        address     ParcelNum Model  Address_Visible  \\\n",
       "0  2013.0  21932 2225 RD  297931200016     A                0   \n",
       "1  2013.0  21944 2225 RD  297931200018     A                0   \n",
       "2  2013.0  21939 2225 RD  297931200061     A                0   \n",
       "3  2013.0  21961 2225 RD  297931200060     A                0   \n",
       "4  2013.0  21973 2225 RD  297931200021     A                0   \n",
       "\n",
       "   Driveway_Clearance  Driveway_Lenth  Dist_to_Danger_Topo  Slope_Final  \\\n",
       "0                   0             NaN                    0          NaN   \n",
       "1                   0             NaN                    0          NaN   \n",
       "2                   5             NaN                   75          NaN   \n",
       "3                   0             NaN                   75          NaN   \n",
       "4                   0             NaN                   75          NaN   \n",
       "\n",
       "   Background_Fuels  Defensible_Space  Roofing_Material  Building_Exterior  \\\n",
       "0                75                50                 0                  0   \n",
       "1                75                50                 0                 60   \n",
       "2                50               100                 0                 60   \n",
       "3                50                75                 0                 60   \n",
       "4                50                75                 0                 60   \n",
       "\n",
       "   Other_Combustibles  Decks_and_Fencing  Proximity_to_Neighboring_Home  \\\n",
       "0                  30                  0                            NaN   \n",
       "1                  30                 50                            NaN   \n",
       "2                  10                 50                            NaN   \n",
       "3                  30                 50                            NaN   \n",
       "4                  30                 50                            NaN   \n",
       "\n",
       "   Ingress_Egress  Score_Final Risk_Rating                         geometry  \n",
       "0              10          165    Moderate   POINT Z (-107.94621 38.9729 0)  \n",
       "1              10          275   Very High     POINT Z (-107.947 38.9732 0)  \n",
       "2              10          360     Extreme  POINT Z (-107.94698 38.97218 0)  \n",
       "3              10          350     Extreme   POINT Z (-107.9474 38.97219 0)  \n",
       "4              10          350     Extreme     POINT Z (-107.948 38.9723 0)  "
      ]
     },
     "execution_count": 4,
     "metadata": {},
     "output_type": "execute_result"
    }
   ],
   "source": [
    "wrwc_gdf.head()"
   ]
  },
  {
   "cell_type": "code",
   "execution_count": 6,
   "metadata": {},
   "outputs": [
    {
     "data": {
      "text/html": [
       "<div>\n",
       "<style scoped>\n",
       "    .dataframe tbody tr th:only-of-type {\n",
       "        vertical-align: middle;\n",
       "    }\n",
       "\n",
       "    .dataframe tbody tr th {\n",
       "        vertical-align: top;\n",
       "    }\n",
       "\n",
       "    .dataframe thead th {\n",
       "        text-align: right;\n",
       "    }\n",
       "</style>\n",
       "<table border=\"1\" class=\"dataframe\">\n",
       "  <thead>\n",
       "    <tr style=\"text-align: right;\">\n",
       "      <th></th>\n",
       "      <th>OBJECTID</th>\n",
       "      <th>Join_Count</th>\n",
       "      <th>ID</th>\n",
       "      <th>Fire_Prote</th>\n",
       "      <th>county</th>\n",
       "      <th>Year</th>\n",
       "      <th>Address_Po</th>\n",
       "      <th>Ingress_Eg</th>\n",
       "      <th>Driveway_W</th>\n",
       "      <th>Driveway_C</th>\n",
       "      <th>Driveway_L</th>\n",
       "      <th>Distance_t</th>\n",
       "      <th>Slope_or_G</th>\n",
       "      <th>Background</th>\n",
       "      <th>Defesnible</th>\n",
       "      <th>Roof</th>\n",
       "      <th>Siding</th>\n",
       "      <th>Distance_1</th>\n",
       "      <th>Combustibl</th>\n",
       "      <th>Proximity_</th>\n",
       "      <th>Type_of_St</th>\n",
       "      <th>Score</th>\n",
       "      <th>Risk_Ratin</th>\n",
       "      <th>address</th>\n",
       "      <th>town</th>\n",
       "      <th>latitude</th>\n",
       "      <th>longitude</th>\n",
       "      <th>x</th>\n",
       "      <th>y</th>\n",
       "      <th>ParcelNum</th>\n",
       "    </tr>\n",
       "  </thead>\n",
       "  <tbody>\n",
       "    <tr>\n",
       "      <th>0</th>\n",
       "      <td>1</td>\n",
       "      <td>0</td>\n",
       "      <td>DC001</td>\n",
       "      <td>Cedaredge</td>\n",
       "      <td>Delta</td>\n",
       "      <td>2013</td>\n",
       "      <td>Posted and Reflective</td>\n",
       "      <td>One Road In/Out</td>\n",
       "      <td>Greater than 24'</td>\n",
       "      <td></td>\n",
       "      <td></td>\n",
       "      <td>Greater than 150'</td>\n",
       "      <td></td>\n",
       "      <td>Heavy</td>\n",
       "      <td>Between 30' - 150'</td>\n",
       "      <td>Class A</td>\n",
       "      <td>Non-Combustible</td>\n",
       "      <td>Less than 10' from structure</td>\n",
       "      <td>NaN</td>\n",
       "      <td></td>\n",
       "      <td></td>\n",
       "      <td>1 Moderate</td>\n",
       "      <td>Moderate</td>\n",
       "      <td>21932 2225 RD</td>\n",
       "      <td>CEDAREDGE</td>\n",
       "      <td>38.9729</td>\n",
       "      <td>-107.946</td>\n",
       "      <td>-107.946</td>\n",
       "      <td>38.9729</td>\n",
       "      <td>NaN</td>\n",
       "    </tr>\n",
       "    <tr>\n",
       "      <th>1</th>\n",
       "      <td>2</td>\n",
       "      <td>1</td>\n",
       "      <td>DC002</td>\n",
       "      <td>Cedaredge</td>\n",
       "      <td>Delta</td>\n",
       "      <td>2013</td>\n",
       "      <td>Posted and Reflective</td>\n",
       "      <td>One Road In/Out</td>\n",
       "      <td>Greater than 24'</td>\n",
       "      <td></td>\n",
       "      <td></td>\n",
       "      <td>Greater than 150'</td>\n",
       "      <td></td>\n",
       "      <td>Heavy</td>\n",
       "      <td>Between 30' - 150'</td>\n",
       "      <td>Class A</td>\n",
       "      <td>Wood, Vinyl</td>\n",
       "      <td>Less than 10' from structure</td>\n",
       "      <td>Combustible Deck/Fence attached to Structure</td>\n",
       "      <td></td>\n",
       "      <td></td>\n",
       "      <td>2 High</td>\n",
       "      <td>High</td>\n",
       "      <td>21944 2225 RD</td>\n",
       "      <td>CEDAREDGE</td>\n",
       "      <td>38.9732</td>\n",
       "      <td>-107.947</td>\n",
       "      <td>-107.947</td>\n",
       "      <td>38.9732</td>\n",
       "      <td>2.979312e+11</td>\n",
       "    </tr>\n",
       "    <tr>\n",
       "      <th>2</th>\n",
       "      <td>3</td>\n",
       "      <td>1</td>\n",
       "      <td>DC003</td>\n",
       "      <td>Cedaredge</td>\n",
       "      <td>Delta</td>\n",
       "      <td>2013</td>\n",
       "      <td>Posted and Reflective</td>\n",
       "      <td>One Road In/Out</td>\n",
       "      <td>Between 20' -24'</td>\n",
       "      <td></td>\n",
       "      <td></td>\n",
       "      <td>Less than 50'</td>\n",
       "      <td></td>\n",
       "      <td>Moderate</td>\n",
       "      <td>Less than 10'</td>\n",
       "      <td>Class A</td>\n",
       "      <td>Wood, Vinyl</td>\n",
       "      <td>Between 10' - 30' from structure</td>\n",
       "      <td>Combustible Deck/Fence attached to Structure</td>\n",
       "      <td></td>\n",
       "      <td></td>\n",
       "      <td>4 Extreme</td>\n",
       "      <td>Extreme</td>\n",
       "      <td>21939 2225 RD</td>\n",
       "      <td>CEDAREDGE</td>\n",
       "      <td>38.9713</td>\n",
       "      <td>-107.947</td>\n",
       "      <td>-107.947</td>\n",
       "      <td>38.9713</td>\n",
       "      <td>2.979312e+11</td>\n",
       "    </tr>\n",
       "    <tr>\n",
       "      <th>3</th>\n",
       "      <td>4</td>\n",
       "      <td>1</td>\n",
       "      <td>DC004</td>\n",
       "      <td>Cedaredge</td>\n",
       "      <td>Delta</td>\n",
       "      <td>2013</td>\n",
       "      <td>Posted and Reflective</td>\n",
       "      <td>One Road In/Out</td>\n",
       "      <td>Greater than 24'</td>\n",
       "      <td></td>\n",
       "      <td></td>\n",
       "      <td>Less than 50'</td>\n",
       "      <td></td>\n",
       "      <td>Moderate</td>\n",
       "      <td>Between 10' - 30'</td>\n",
       "      <td>Class A</td>\n",
       "      <td>Wood, Vinyl</td>\n",
       "      <td>Less than 10' from structure</td>\n",
       "      <td>Combustible Deck/Fence attached to Structure</td>\n",
       "      <td></td>\n",
       "      <td></td>\n",
       "      <td>3 Very High</td>\n",
       "      <td>Very High</td>\n",
       "      <td>21961 2225 RD</td>\n",
       "      <td>CEDAREDGE</td>\n",
       "      <td>38.9721</td>\n",
       "      <td>-107.947</td>\n",
       "      <td>-107.947</td>\n",
       "      <td>38.9721</td>\n",
       "      <td>2.979312e+11</td>\n",
       "    </tr>\n",
       "    <tr>\n",
       "      <th>4</th>\n",
       "      <td>5</td>\n",
       "      <td>1</td>\n",
       "      <td>DC005</td>\n",
       "      <td>Cedaredge</td>\n",
       "      <td>Delta</td>\n",
       "      <td>2013</td>\n",
       "      <td>Posted and Reflective</td>\n",
       "      <td>One Road In/Out</td>\n",
       "      <td>Greater than 24'</td>\n",
       "      <td></td>\n",
       "      <td></td>\n",
       "      <td>Less than 50'</td>\n",
       "      <td></td>\n",
       "      <td>Moderate</td>\n",
       "      <td>Between 10' - 30'</td>\n",
       "      <td>Class A</td>\n",
       "      <td>Wood, Vinyl</td>\n",
       "      <td>Less than 10' from structure</td>\n",
       "      <td>Combustible Deck/Fence attached to Structure</td>\n",
       "      <td></td>\n",
       "      <td></td>\n",
       "      <td>3 Very High</td>\n",
       "      <td>Very High</td>\n",
       "      <td>21973 2225 RD</td>\n",
       "      <td>CEDAREDGE</td>\n",
       "      <td>38.9723</td>\n",
       "      <td>-107.948</td>\n",
       "      <td>-107.948</td>\n",
       "      <td>38.9723</td>\n",
       "      <td>2.979312e+11</td>\n",
       "    </tr>\n",
       "  </tbody>\n",
       "</table>\n",
       "</div>"
      ],
      "text/plain": [
       "   OBJECTID  Join_Count     ID Fire_Prote county  Year             Address_Po  \\\n",
       "0         1           0  DC001  Cedaredge  Delta  2013  Posted and Reflective   \n",
       "1         2           1  DC002  Cedaredge  Delta  2013  Posted and Reflective   \n",
       "2         3           1  DC003  Cedaredge  Delta  2013  Posted and Reflective   \n",
       "3         4           1  DC004  Cedaredge  Delta  2013  Posted and Reflective   \n",
       "4         5           1  DC005  Cedaredge  Delta  2013  Posted and Reflective   \n",
       "\n",
       "        Ingress_Eg        Driveway_W Driveway_C Driveway_L         Distance_t  \\\n",
       "0  One Road In/Out  Greater than 24'                        Greater than 150'   \n",
       "1  One Road In/Out  Greater than 24'                        Greater than 150'   \n",
       "2  One Road In/Out  Between 20' -24'                            Less than 50'   \n",
       "3  One Road In/Out  Greater than 24'                            Less than 50'   \n",
       "4  One Road In/Out  Greater than 24'                            Less than 50'   \n",
       "\n",
       "  Slope_or_G Background          Defesnible     Roof           Siding  \\\n",
       "0                 Heavy  Between 30' - 150'  Class A  Non-Combustible   \n",
       "1                 Heavy  Between 30' - 150'  Class A      Wood, Vinyl   \n",
       "2              Moderate       Less than 10'  Class A      Wood, Vinyl   \n",
       "3              Moderate   Between 10' - 30'  Class A      Wood, Vinyl   \n",
       "4              Moderate   Between 10' - 30'  Class A      Wood, Vinyl   \n",
       "\n",
       "                         Distance_1  \\\n",
       "0      Less than 10' from structure   \n",
       "1      Less than 10' from structure   \n",
       "2  Between 10' - 30' from structure   \n",
       "3      Less than 10' from structure   \n",
       "4      Less than 10' from structure   \n",
       "\n",
       "                                     Combustibl Proximity_ Type_of_St  \\\n",
       "0                                           NaN                         \n",
       "1  Combustible Deck/Fence attached to Structure                         \n",
       "2  Combustible Deck/Fence attached to Structure                         \n",
       "3  Combustible Deck/Fence attached to Structure                         \n",
       "4  Combustible Deck/Fence attached to Structure                         \n",
       "\n",
       "         Score Risk_Ratin        address       town  latitude  longitude  \\\n",
       "0   1 Moderate   Moderate  21932 2225 RD  CEDAREDGE   38.9729   -107.946   \n",
       "1       2 High       High  21944 2225 RD  CEDAREDGE   38.9732   -107.947   \n",
       "2    4 Extreme    Extreme  21939 2225 RD  CEDAREDGE   38.9713   -107.947   \n",
       "3  3 Very High  Very High  21961 2225 RD  CEDAREDGE   38.9721   -107.947   \n",
       "4  3 Very High  Very High  21973 2225 RD  CEDAREDGE   38.9723   -107.948   \n",
       "\n",
       "         x        y     ParcelNum  \n",
       "0 -107.946  38.9729           NaN  \n",
       "1 -107.947  38.9732  2.979312e+11  \n",
       "2 -107.947  38.9713  2.979312e+11  \n",
       "3 -107.947  38.9721  2.979312e+11  \n",
       "4 -107.948  38.9723  2.979312e+11  "
      ]
     },
     "execution_count": 6,
     "metadata": {},
     "output_type": "execute_result"
    }
   ],
   "source": [
    "wrwc_df.head()"
   ]
  },
  {
   "cell_type": "code",
   "execution_count": 31,
   "metadata": {},
   "outputs": [
    {
     "name": "stdout",
     "output_type": "stream",
     "text": [
      "4591\n",
      "6596\n"
     ]
    }
   ],
   "source": [
    "print(wrwc_df['ID'].nunique())\n",
    "print(len(wrwc_df))"
   ]
  },
  {
   "cell_type": "code",
   "execution_count": 5,
   "metadata": {},
   "outputs": [
    {
     "data": {
      "text/html": [
       "<div>\n",
       "<style scoped>\n",
       "    .dataframe tbody tr th:only-of-type {\n",
       "        vertical-align: middle;\n",
       "    }\n",
       "\n",
       "    .dataframe tbody tr th {\n",
       "        vertical-align: top;\n",
       "    }\n",
       "\n",
       "    .dataframe thead th {\n",
       "        text-align: right;\n",
       "    }\n",
       "</style>\n",
       "<table border=\"1\" class=\"dataframe\">\n",
       "  <thead>\n",
       "    <tr style=\"text-align: right;\">\n",
       "      <th></th>\n",
       "      <th>County</th>\n",
       "      <th>wui_class</th>\n",
       "      <th>min_ssd</th>\n",
       "      <th>mean_cc0_2m</th>\n",
       "      <th>mean_cc2_4m</th>\n",
       "      <th>mean_cc4_8m</th>\n",
       "      <th>mean_cc8_40m</th>\n",
       "      <th>intersections</th>\n",
       "      <th>PARCELNB</th>\n",
       "      <th>ACCOUNT</th>\n",
       "      <th>ACRES_calc</th>\n",
       "      <th>hiz_ext_out</th>\n",
       "      <th>Actual Year Built\\n(AYB)</th>\n",
       "      <th>Air Conditioning\\n(AIRC)</th>\n",
       "      <th>Architecture Style\\n(ARCH)</th>\n",
       "      <th>Area Acres\\n(Area_ACRES)</th>\n",
       "      <th>Area SQFT\\n(Area_SQFT)</th>\n",
       "      <th>Condition\\n(COND)</th>\n",
       "      <th>DGR - Detached Garage\\n(SubArea_DGR)</th>\n",
       "      <th>Effective Year Built\\n(EYB)</th>\n",
       "      <th>Exterior Percent\\n(EXW_PERCENT)</th>\n",
       "      <th>Exterior Wall\\n(EXW)</th>\n",
       "      <th>Floor\\n(FLR)</th>\n",
       "      <th>Frame\\n(FRME)</th>\n",
       "      <th>Heating Fuel\\n(HTFL)</th>\n",
       "      <th>Interior Wall\\n(INT)</th>\n",
       "      <th>Neighborhood\\n(NBHD)</th>\n",
       "      <th>OPP - Open Porch\\n(SubArea_OPP)</th>\n",
       "      <th>PTO - Patio\\n(SubArea_PTO)</th>\n",
       "      <th>RMS\\n(RMS)</th>\n",
       "      <th>Roof Cover\\n(RCVR)</th>\n",
       "      <th>Roof Structure\\n(RSTR)</th>\n",
       "      <th>Type</th>\n",
       "      <th>WBL - Wood Balcony\\n(SubArea_WBL)</th>\n",
       "    </tr>\n",
       "  </thead>\n",
       "  <tbody>\n",
       "    <tr>\n",
       "      <th>0</th>\n",
       "      <td>Ouray County</td>\n",
       "      <td>5</td>\n",
       "      <td>11.936200</td>\n",
       "      <td>0.079294</td>\n",
       "      <td>0.119998</td>\n",
       "      <td>0.066202</td>\n",
       "      <td>0.003467</td>\n",
       "      <td>2</td>\n",
       "      <td>403726200085</td>\n",
       "      <td>R002417</td>\n",
       "      <td>35.8913</td>\n",
       "      <td>False</td>\n",
       "      <td>1999.0</td>\n",
       "      <td>0 - N/A</td>\n",
       "      <td>1 - RANCH</td>\n",
       "      <td>0.0</td>\n",
       "      <td>2006.0</td>\n",
       "      <td>3 - GOOD</td>\n",
       "      <td>0.0</td>\n",
       "      <td>2005.0</td>\n",
       "      <td>100.0</td>\n",
       "      <td>9 - MASONITE</td>\n",
       "      <td>1 - WDJST PLYW</td>\n",
       "      <td>9 - FRME 2X4</td>\n",
       "      <td>7 - PROPANE</td>\n",
       "      <td>1 - DRYWALL</td>\n",
       "      <td>7000006 - Outlying6</td>\n",
       "      <td>0.0</td>\n",
       "      <td>577.5</td>\n",
       "      <td>0.776148</td>\n",
       "      <td>9 - PRO PANEL</td>\n",
       "      <td>3 - SHED MED</td>\n",
       "      <td>Residence</td>\n",
       "      <td>0.0</td>\n",
       "    </tr>\n",
       "    <tr>\n",
       "      <th>1</th>\n",
       "      <td>Ouray County</td>\n",
       "      <td>1</td>\n",
       "      <td>213.672097</td>\n",
       "      <td>0.032280</td>\n",
       "      <td>0.038839</td>\n",
       "      <td>0.006272</td>\n",
       "      <td>0.000000</td>\n",
       "      <td>0</td>\n",
       "      <td>403915300016</td>\n",
       "      <td>R004080</td>\n",
       "      <td>40.1202</td>\n",
       "      <td>False</td>\n",
       "      <td>2009.0</td>\n",
       "      <td>0 - N/A</td>\n",
       "      <td>1 - RANCH</td>\n",
       "      <td>0.0</td>\n",
       "      <td>1725.0</td>\n",
       "      <td>2 - VERY GOOD</td>\n",
       "      <td>0.0</td>\n",
       "      <td>2010.0</td>\n",
       "      <td>90.0</td>\n",
       "      <td>5 - STUCCO (F)</td>\n",
       "      <td>4 - CONC/TILE</td>\n",
       "      <td>9 - FRME 2X4</td>\n",
       "      <td>3 - GAS</td>\n",
       "      <td>1 - DRYWALL</td>\n",
       "      <td>7000006 - Outlying6</td>\n",
       "      <td>560.0</td>\n",
       "      <td>0.0</td>\n",
       "      <td>0.776148</td>\n",
       "      <td>3 - DISTRESSED METAL</td>\n",
       "      <td>6 - GABEL MED</td>\n",
       "      <td>Residence</td>\n",
       "      <td>0.0</td>\n",
       "    </tr>\n",
       "    <tr>\n",
       "      <th>2</th>\n",
       "      <td>Ouray County</td>\n",
       "      <td>5</td>\n",
       "      <td>183.675975</td>\n",
       "      <td>0.063696</td>\n",
       "      <td>0.097281</td>\n",
       "      <td>0.033223</td>\n",
       "      <td>0.082861</td>\n",
       "      <td>0</td>\n",
       "      <td>403736200037</td>\n",
       "      <td>R002506</td>\n",
       "      <td>39.7779</td>\n",
       "      <td>False</td>\n",
       "      <td>1996.0</td>\n",
       "      <td>0 - N/A</td>\n",
       "      <td>7 - MTN CABIN</td>\n",
       "      <td>0.0</td>\n",
       "      <td>692.6</td>\n",
       "      <td>3 - GOOD</td>\n",
       "      <td>0.0</td>\n",
       "      <td>2005.0</td>\n",
       "      <td>100.0</td>\n",
       "      <td>2 - WOOD</td>\n",
       "      <td>5 - CONCRETE</td>\n",
       "      <td>0 - N/A</td>\n",
       "      <td>2 - WOOD</td>\n",
       "      <td>1 - DRYWALL</td>\n",
       "      <td>7000006 - Outlying6</td>\n",
       "      <td>0.0</td>\n",
       "      <td>0.0</td>\n",
       "      <td>0.000000</td>\n",
       "      <td>5 - ASPH SHNGL</td>\n",
       "      <td>3 - SHED MED</td>\n",
       "      <td>Residence</td>\n",
       "      <td>0.0</td>\n",
       "    </tr>\n",
       "    <tr>\n",
       "      <th>3</th>\n",
       "      <td>Ouray County</td>\n",
       "      <td>5</td>\n",
       "      <td>101.386718</td>\n",
       "      <td>0.037428</td>\n",
       "      <td>0.219677</td>\n",
       "      <td>0.253634</td>\n",
       "      <td>0.000842</td>\n",
       "      <td>0</td>\n",
       "      <td>403925218002</td>\n",
       "      <td>R004877</td>\n",
       "      <td>16.5952</td>\n",
       "      <td>True</td>\n",
       "      <td>2004.0</td>\n",
       "      <td>0 - N/A</td>\n",
       "      <td>5 - MODULAR</td>\n",
       "      <td>0.0</td>\n",
       "      <td>894.0</td>\n",
       "      <td>3 - GOOD</td>\n",
       "      <td>0.0</td>\n",
       "      <td>2010.0</td>\n",
       "      <td>100.0</td>\n",
       "      <td>9 - MASONITE</td>\n",
       "      <td>1 - WDJST PLYW</td>\n",
       "      <td>9 - FRME 2X4</td>\n",
       "      <td>7 - PROPANE</td>\n",
       "      <td>1 - DRYWALL</td>\n",
       "      <td>7000006 - Outlying6</td>\n",
       "      <td>179.0</td>\n",
       "      <td>0.0</td>\n",
       "      <td>0.776148</td>\n",
       "      <td>9 - PRO PANEL</td>\n",
       "      <td>6 - GABEL MED</td>\n",
       "      <td>Residence</td>\n",
       "      <td>0.0</td>\n",
       "    </tr>\n",
       "    <tr>\n",
       "      <th>4</th>\n",
       "      <td>Ouray County</td>\n",
       "      <td>3</td>\n",
       "      <td>20.213243</td>\n",
       "      <td>0.056646</td>\n",
       "      <td>0.058065</td>\n",
       "      <td>0.112239</td>\n",
       "      <td>0.181261</td>\n",
       "      <td>2</td>\n",
       "      <td>404129300015</td>\n",
       "      <td>R004133</td>\n",
       "      <td>398.9760</td>\n",
       "      <td>False</td>\n",
       "      <td>1958.0</td>\n",
       "      <td>1 - NONE</td>\n",
       "      <td>1 - RANCH</td>\n",
       "      <td>0.0</td>\n",
       "      <td>1262.0</td>\n",
       "      <td>3 - GOOD</td>\n",
       "      <td>0.0</td>\n",
       "      <td>1995.0</td>\n",
       "      <td>100.0</td>\n",
       "      <td>9 - MASONITE</td>\n",
       "      <td>1 - WDJST PLYW</td>\n",
       "      <td>9 - FRME 2X4</td>\n",
       "      <td>7 - PROPANE</td>\n",
       "      <td>3 - PANELING</td>\n",
       "      <td>7000002 - Outlying2</td>\n",
       "      <td>0.0</td>\n",
       "      <td>0.0</td>\n",
       "      <td>0.000000</td>\n",
       "      <td>9 - PRO PANEL</td>\n",
       "      <td>6 - GABEL MED</td>\n",
       "      <td>Residence</td>\n",
       "      <td>0.0</td>\n",
       "    </tr>\n",
       "  </tbody>\n",
       "</table>\n",
       "</div>"
      ],
      "text/plain": [
       "         County  wui_class     min_ssd  mean_cc0_2m  mean_cc2_4m  mean_cc4_8m  \\\n",
       "0  Ouray County          5   11.936200     0.079294     0.119998     0.066202   \n",
       "1  Ouray County          1  213.672097     0.032280     0.038839     0.006272   \n",
       "2  Ouray County          5  183.675975     0.063696     0.097281     0.033223   \n",
       "3  Ouray County          5  101.386718     0.037428     0.219677     0.253634   \n",
       "4  Ouray County          3   20.213243     0.056646     0.058065     0.112239   \n",
       "\n",
       "   mean_cc8_40m  intersections      PARCELNB  ACCOUNT  ACRES_calc  \\\n",
       "0      0.003467              2  403726200085  R002417     35.8913   \n",
       "1      0.000000              0  403915300016  R004080     40.1202   \n",
       "2      0.082861              0  403736200037  R002506     39.7779   \n",
       "3      0.000842              0  403925218002  R004877     16.5952   \n",
       "4      0.181261              2  404129300015  R004133    398.9760   \n",
       "\n",
       "   hiz_ext_out  Actual Year Built\\n(AYB) Air Conditioning\\n(AIRC)  \\\n",
       "0        False                    1999.0                  0 - N/A   \n",
       "1        False                    2009.0                  0 - N/A   \n",
       "2        False                    1996.0                  0 - N/A   \n",
       "3         True                    2004.0                  0 - N/A   \n",
       "4        False                    1958.0                 1 - NONE   \n",
       "\n",
       "  Architecture Style\\n(ARCH)  Area Acres\\n(Area_ACRES)  \\\n",
       "0                  1 - RANCH                       0.0   \n",
       "1                  1 - RANCH                       0.0   \n",
       "2              7 - MTN CABIN                       0.0   \n",
       "3                5 - MODULAR                       0.0   \n",
       "4                  1 - RANCH                       0.0   \n",
       "\n",
       "   Area SQFT\\n(Area_SQFT) Condition\\n(COND)  \\\n",
       "0                  2006.0          3 - GOOD   \n",
       "1                  1725.0     2 - VERY GOOD   \n",
       "2                   692.6          3 - GOOD   \n",
       "3                   894.0          3 - GOOD   \n",
       "4                  1262.0          3 - GOOD   \n",
       "\n",
       "   DGR - Detached Garage\\n(SubArea_DGR)  Effective Year Built\\n(EYB)  \\\n",
       "0                                   0.0                       2005.0   \n",
       "1                                   0.0                       2010.0   \n",
       "2                                   0.0                       2005.0   \n",
       "3                                   0.0                       2010.0   \n",
       "4                                   0.0                       1995.0   \n",
       "\n",
       "   Exterior Percent\\n(EXW_PERCENT) Exterior Wall\\n(EXW)    Floor\\n(FLR)  \\\n",
       "0                            100.0         9 - MASONITE  1 - WDJST PLYW   \n",
       "1                             90.0       5 - STUCCO (F)   4 - CONC/TILE   \n",
       "2                            100.0             2 - WOOD    5 - CONCRETE   \n",
       "3                            100.0         9 - MASONITE  1 - WDJST PLYW   \n",
       "4                            100.0         9 - MASONITE  1 - WDJST PLYW   \n",
       "\n",
       "  Frame\\n(FRME) Heating Fuel\\n(HTFL) Interior Wall\\n(INT)  \\\n",
       "0  9 - FRME 2X4          7 - PROPANE          1 - DRYWALL   \n",
       "1  9 - FRME 2X4              3 - GAS          1 - DRYWALL   \n",
       "2       0 - N/A             2 - WOOD          1 - DRYWALL   \n",
       "3  9 - FRME 2X4          7 - PROPANE          1 - DRYWALL   \n",
       "4  9 - FRME 2X4          7 - PROPANE         3 - PANELING   \n",
       "\n",
       "  Neighborhood\\n(NBHD)  OPP - Open Porch\\n(SubArea_OPP)  \\\n",
       "0  7000006 - Outlying6                              0.0   \n",
       "1  7000006 - Outlying6                            560.0   \n",
       "2  7000006 - Outlying6                              0.0   \n",
       "3  7000006 - Outlying6                            179.0   \n",
       "4  7000002 - Outlying2                              0.0   \n",
       "\n",
       "   PTO - Patio\\n(SubArea_PTO)  RMS\\n(RMS)    Roof Cover\\n(RCVR)  \\\n",
       "0                       577.5    0.776148         9 - PRO PANEL   \n",
       "1                         0.0    0.776148  3 - DISTRESSED METAL   \n",
       "2                         0.0    0.000000        5 - ASPH SHNGL   \n",
       "3                         0.0    0.776148         9 - PRO PANEL   \n",
       "4                         0.0    0.000000         9 - PRO PANEL   \n",
       "\n",
       "  Roof Structure\\n(RSTR)       Type  WBL - Wood Balcony\\n(SubArea_WBL)  \n",
       "0           3 - SHED MED  Residence                                0.0  \n",
       "1          6 - GABEL MED  Residence                                0.0  \n",
       "2           3 - SHED MED  Residence                                0.0  \n",
       "3          6 - GABEL MED  Residence                                0.0  \n",
       "4          6 - GABEL MED  Residence                                0.0  "
      ]
     },
     "execution_count": 5,
     "metadata": {},
     "output_type": "execute_result"
    }
   ],
   "source": [
    "feat = pd.read_csv(os.path.join(feat_path, 'feat_nonan.csv'))\n",
    "feat.head()"
   ]
  },
  {
   "cell_type": "code",
   "execution_count": null,
   "metadata": {},
   "outputs": [
    {
     "data": {
      "text/plain": [
       "1081"
      ]
     },
     "execution_count": 7,
     "metadata": {},
     "output_type": "execute_result"
    }
   ],
   "source": [
    "# How many assessments in Ouray?\n",
    "wrwc_df_ouray = wrwc_df[wrwc_df['county'] == 'Ouray']\n",
    "len(wrwc_df_ouray)"
   ]
  },
  {
   "cell_type": "code",
   "execution_count": 29,
   "metadata": {},
   "outputs": [
    {
     "data": {
      "text/html": [
       "<div>\n",
       "<style scoped>\n",
       "    .dataframe tbody tr th:only-of-type {\n",
       "        vertical-align: middle;\n",
       "    }\n",
       "\n",
       "    .dataframe tbody tr th {\n",
       "        vertical-align: top;\n",
       "    }\n",
       "\n",
       "    .dataframe thead th {\n",
       "        text-align: right;\n",
       "    }\n",
       "</style>\n",
       "<table border=\"1\" class=\"dataframe\">\n",
       "  <thead>\n",
       "    <tr style=\"text-align: right;\">\n",
       "      <th></th>\n",
       "      <th>OBJECTID</th>\n",
       "      <th>Join_Count</th>\n",
       "      <th>ID</th>\n",
       "      <th>Fire_Prote</th>\n",
       "      <th>county</th>\n",
       "      <th>Year</th>\n",
       "      <th>Address_Po</th>\n",
       "      <th>Ingress_Eg</th>\n",
       "      <th>Driveway_W</th>\n",
       "      <th>Driveway_C</th>\n",
       "      <th>Driveway_L</th>\n",
       "      <th>Distance_t</th>\n",
       "      <th>Slope_or_G</th>\n",
       "      <th>Background</th>\n",
       "      <th>Defesnible</th>\n",
       "      <th>Roof</th>\n",
       "      <th>Siding</th>\n",
       "      <th>Distance_1</th>\n",
       "      <th>Combustibl</th>\n",
       "      <th>Proximity_</th>\n",
       "      <th>Type_of_St</th>\n",
       "      <th>Score</th>\n",
       "      <th>Risk_Ratin</th>\n",
       "      <th>address</th>\n",
       "      <th>town</th>\n",
       "      <th>latitude</th>\n",
       "      <th>longitude</th>\n",
       "      <th>x</th>\n",
       "      <th>y</th>\n",
       "      <th>ParcelNum</th>\n",
       "    </tr>\n",
       "  </thead>\n",
       "  <tbody>\n",
       "    <tr>\n",
       "      <th>4122</th>\n",
       "      <td>4123</td>\n",
       "      <td>1</td>\n",
       "      <td>LH1000</td>\n",
       "      <td>LogHill</td>\n",
       "      <td>Ouray</td>\n",
       "      <td>2017</td>\n",
       "      <td>Posted, NOT Reflective</td>\n",
       "      <td>Two or More Roads In/Out</td>\n",
       "      <td>Greater than 24'</td>\n",
       "      <td></td>\n",
       "      <td></td>\n",
       "      <td>Greater than 150'</td>\n",
       "      <td>Less than 20%</td>\n",
       "      <td>Light</td>\n",
       "      <td>Between 30' - 150'</td>\n",
       "      <td>Class A</td>\n",
       "      <td>Non-Combustible</td>\n",
       "      <td>None, Greater than 30' from structure</td>\n",
       "      <td>Non-Combustible Deck/Fence attached to Structure</td>\n",
       "      <td></td>\n",
       "      <td></td>\n",
       "      <td>0 Low</td>\n",
       "      <td>Low</td>\n",
       "      <td>416 COUNTY ROAD 22A</td>\n",
       "      <td>Log Hill Mesa Fire Protection District</td>\n",
       "      <td>38.289468</td>\n",
       "      <td>-107.823723</td>\n",
       "      <td>-107.823723</td>\n",
       "      <td>38.289468</td>\n",
       "      <td>403935100181</td>\n",
       "    </tr>\n",
       "    <tr>\n",
       "      <th>4123</th>\n",
       "      <td>4124</td>\n",
       "      <td>1</td>\n",
       "      <td>LH1001</td>\n",
       "      <td>LogHill</td>\n",
       "      <td>Ouray</td>\n",
       "      <td>2017</td>\n",
       "      <td>Not Visible from the Road</td>\n",
       "      <td>Two or More Roads In/Out</td>\n",
       "      <td>Greater than 24'</td>\n",
       "      <td></td>\n",
       "      <td></td>\n",
       "      <td>Greater than 150'</td>\n",
       "      <td>Less than 20%</td>\n",
       "      <td>Light</td>\n",
       "      <td>Greater than 150'</td>\n",
       "      <td>Class A</td>\n",
       "      <td>Non-Combustible</td>\n",
       "      <td>Less than 10' from structure</td>\n",
       "      <td>Non-Combustible Deck/Fence attached to Structure</td>\n",
       "      <td></td>\n",
       "      <td></td>\n",
       "      <td>0 Low</td>\n",
       "      <td>Low</td>\n",
       "      <td>3100 COUNTY ROAD 22</td>\n",
       "      <td>Log Hill Mesa Fire Protection District</td>\n",
       "      <td>38.297780</td>\n",
       "      <td>-107.824325</td>\n",
       "      <td>-107.824325</td>\n",
       "      <td>38.297780</td>\n",
       "      <td>403926423002</td>\n",
       "    </tr>\n",
       "  </tbody>\n",
       "</table>\n",
       "</div>"
      ],
      "text/plain": [
       "      OBJECTID  Join_Count      ID Fire_Prote county  Year  \\\n",
       "4122      4123           1  LH1000    LogHill  Ouray  2017   \n",
       "4123      4124           1  LH1001    LogHill  Ouray  2017   \n",
       "\n",
       "                     Address_Po                Ingress_Eg        Driveway_W  \\\n",
       "4122     Posted, NOT Reflective  Two or More Roads In/Out  Greater than 24'   \n",
       "4123  Not Visible from the Road  Two or More Roads In/Out  Greater than 24'   \n",
       "\n",
       "     Driveway_C Driveway_L         Distance_t     Slope_or_G Background  \\\n",
       "4122                        Greater than 150'  Less than 20%      Light   \n",
       "4123                        Greater than 150'  Less than 20%      Light   \n",
       "\n",
       "              Defesnible     Roof           Siding  \\\n",
       "4122  Between 30' - 150'  Class A  Non-Combustible   \n",
       "4123   Greater than 150'  Class A  Non-Combustible   \n",
       "\n",
       "                                 Distance_1  \\\n",
       "4122  None, Greater than 30' from structure   \n",
       "4123           Less than 10' from structure   \n",
       "\n",
       "                                            Combustibl Proximity_ Type_of_St  \\\n",
       "4122  Non-Combustible Deck/Fence attached to Structure                         \n",
       "4123  Non-Combustible Deck/Fence attached to Structure                         \n",
       "\n",
       "      Score Risk_Ratin              address  \\\n",
       "4122  0 Low        Low  416 COUNTY ROAD 22A   \n",
       "4123  0 Low        Low  3100 COUNTY ROAD 22   \n",
       "\n",
       "                                        town   latitude   longitude  \\\n",
       "4122  Log Hill Mesa Fire Protection District  38.289468 -107.823723   \n",
       "4123  Log Hill Mesa Fire Protection District  38.297780 -107.824325   \n",
       "\n",
       "               x          y     ParcelNum  \n",
       "4122 -107.823723  38.289468  403935100181  \n",
       "4123 -107.824325  38.297780  403926423002  "
      ]
     },
     "execution_count": 29,
     "metadata": {},
     "output_type": "execute_result"
    }
   ],
   "source": [
    "wrwc_df_ouray.head(2)"
   ]
  },
  {
   "cell_type": "code",
   "execution_count": 9,
   "metadata": {},
   "outputs": [
    {
     "data": {
      "text/plain": [
       "1002"
      ]
     },
     "execution_count": 9,
     "metadata": {},
     "output_type": "execute_result"
    }
   ],
   "source": [
    "wrwc_df_ouray['ParcelNum'].nunique()"
   ]
  },
  {
   "cell_type": "code",
   "execution_count": 21,
   "metadata": {},
   "outputs": [
    {
     "data": {
      "text/plain": [
       "2479"
      ]
     },
     "execution_count": 21,
     "metadata": {},
     "output_type": "execute_result"
    }
   ],
   "source": [
    "feat['PARCELNB'].nunique()"
   ]
  },
  {
   "cell_type": "code",
   "execution_count": 23,
   "metadata": {},
   "outputs": [
    {
     "data": {
      "text/plain": [
       "4002"
      ]
     },
     "execution_count": 23,
     "metadata": {},
     "output_type": "execute_result"
    }
   ],
   "source": [
    "len(feat)"
   ]
  },
  {
   "cell_type": "code",
   "execution_count": 10,
   "metadata": {},
   "outputs": [
    {
     "data": {
      "text/plain": [
       "np.int64(2)"
      ]
     },
     "execution_count": 10,
     "metadata": {},
     "output_type": "execute_result"
    }
   ],
   "source": [
    "wrwc_df_ouray['ParcelNum'].isna().sum()"
   ]
  },
  {
   "cell_type": "code",
   "execution_count": 17,
   "metadata": {},
   "outputs": [
    {
     "name": "stdout",
     "output_type": "stream",
     "text": [
      "wrwc df dtype: float64\n",
      "wrwc GDF dtype: object\n",
      "feat dtype: object\n"
     ]
    }
   ],
   "source": [
    "# What are the data types of parcel numbers across the three datasets\n",
    "\n",
    "print(f'wrwc df dtype: {wrwc_df_ouray['ParcelNum'].dtype}')\n",
    "print(f'wrwc GDF dtype: {wrwc_gdf['ParcelNum'].dtype}')\n",
    "print(f'feat dtype: {feat['PARCELNB'].dtype}')"
   ]
  },
  {
   "cell_type": "markdown",
   "metadata": {},
   "source": [
    "So first thing we need to do is convert 'ParcelNum' to string in the wrwc csv."
   ]
  },
  {
   "cell_type": "code",
   "execution_count": 19,
   "metadata": {},
   "outputs": [
    {
     "data": {
      "text/plain": [
       "np.int64(935)"
      ]
     },
     "execution_count": 19,
     "metadata": {},
     "output_type": "execute_result"
    }
   ],
   "source": [
    "wrwc_df_ouray = wrwc_df_ouray.dropna(subset=['ParcelNum'])\n",
    "wrwc_df_ouray['ParcelNum'] = wrwc_df_ouray['ParcelNum'].astype(int).astype(str)\n",
    "wrwc_df_ouray['ParcelNum'].isin(feat['PARCELNB']).sum()"
   ]
  },
  {
   "cell_type": "code",
   "execution_count": 20,
   "metadata": {},
   "outputs": [
    {
     "data": {
      "text/plain": [
       "np.int64(1362)"
      ]
     },
     "execution_count": 20,
     "metadata": {},
     "output_type": "execute_result"
    }
   ],
   "source": [
    "feat['PARCELNB'].isin(wrwc_df_ouray['ParcelNum']).sum()"
   ]
  },
  {
   "cell_type": "code",
   "execution_count": 25,
   "metadata": {},
   "outputs": [
    {
     "data": {
      "text/plain": [
       "np.int64(1514)"
      ]
     },
     "execution_count": 25,
     "metadata": {},
     "output_type": "execute_result"
    }
   ],
   "source": [
    "wrwc_df = wrwc_df.dropna(subset=['ParcelNum'])\n",
    "wrwc_df['ParcelNum'] = wrwc_df['ParcelNum'].astype(int).astype(str)\n",
    "feat['PARCELNB'].isin(wrwc_df['ParcelNum']).sum()"
   ]
  },
  {
   "cell_type": "code",
   "execution_count": 26,
   "metadata": {},
   "outputs": [
    {
     "data": {
      "text/plain": [
       "np.int64(1511)"
      ]
     },
     "execution_count": 26,
     "metadata": {},
     "output_type": "execute_result"
    }
   ],
   "source": [
    "feat['PARCELNB'].isin(wrwc_gdf['ParcelNum']).sum()"
   ]
  },
  {
   "cell_type": "code",
   "execution_count": 28,
   "metadata": {},
   "outputs": [
    {
     "name": "stdout",
     "output_type": "stream",
     "text": [
      "total row matches: 1027\n",
      "unique parcelnum matches: 933\n"
     ]
    }
   ],
   "source": [
    "print(f'total row matches: {wrwc_df['ParcelNum'].isin(feat['PARCELNB']).sum()}')\n",
    "print(f'unique parcelnum matches: {wrwc_df.loc[wrwc_df['ParcelNum'].isin(feat['PARCELNB']), 'ParcelNum'].nunique()}')"
   ]
  },
  {
   "cell_type": "markdown",
   "metadata": {},
   "source": [
    "So of the 4000 building centroids that I have features for, there are 1514 rows with 'PARCELNB' values that are also in the WRWC csv.\n",
    "\n",
    "The wrwc df and the feat df both contain duplicate values for parcel numbers. So this results in a many-to-many relationship between the data. If I join the csvs, then I am losing confidence that the risk score is assigned to the correct building from my centroids dataset. \n",
    "\n",
    "So I will try to see if I can relate the centroids to the geometries in the gdf."
   ]
  },
  {
   "cell_type": "code",
   "execution_count": 34,
   "metadata": {},
   "outputs": [
    {
     "data": {
      "text/plain": [
       "<Axes: >"
      ]
     },
     "execution_count": 34,
     "metadata": {},
     "output_type": "execute_result"
    },
    {
     "data": {
      "image/png": "[encoded data removed]",
      "text/plain": [
       "<Figure size 640x480 with 1 Axes>"
      ]
     },
     "metadata": {},
     "output_type": "display_data"
    }
   ],
   "source": [
    "wrwc_gdf.to_crs(26913)\n",
    "wrwc_gdf.plot()"
   ]
  },
  {
   "cell_type": "code",
   "execution_count": null,
   "metadata": {},
   "outputs": [
    {
     "data": {
      "text/plain": [
       "<Axes: >"
      ]
     },
     "execution_count": 46,
     "metadata": {},
     "output_type": "execute_result"
    },
    {
     "data": {
      "image/png": "[encoded data removed]",
      "text/plain": [
       "<Figure size 640x480 with 2 Axes>"
      ]
     },
     "metadata": {},
     "output_type": "display_data"
    }
   ],
   "source": [
    "# Plot risk scores of assessments that are in my feature set\n",
    "wrwc_gdf_ouray = wrwc_gdf[wrwc_gdf['ParcelNum'].isin(feat['PARCELNB'])]\n",
    "wrwc_gdf_ouray.plot(column='Score_Final', legend=True, cmap='Reds', markersize=2)"
   ]
  },
  {
   "cell_type": "code",
   "execution_count": 37,
   "metadata": {},
   "outputs": [
    {
     "data": {
      "text/html": [
       "<div>\n",
       "<style scoped>\n",
       "    .dataframe tbody tr th:only-of-type {\n",
       "        vertical-align: middle;\n",
       "    }\n",
       "\n",
       "    .dataframe tbody tr th {\n",
       "        vertical-align: top;\n",
       "    }\n",
       "\n",
       "    .dataframe thead th {\n",
       "        text-align: right;\n",
       "    }\n",
       "</style>\n",
       "<table border=\"1\" class=\"dataframe\">\n",
       "  <thead>\n",
       "    <tr style=\"text-align: right;\">\n",
       "      <th></th>\n",
       "      <th>Year</th>\n",
       "      <th>address</th>\n",
       "      <th>ParcelNum</th>\n",
       "      <th>Model</th>\n",
       "      <th>Address_Visible</th>\n",
       "      <th>Driveway_Clearance</th>\n",
       "      <th>Driveway_Lenth</th>\n",
       "      <th>Dist_to_Danger_Topo</th>\n",
       "      <th>Slope_Final</th>\n",
       "      <th>Background_Fuels</th>\n",
       "      <th>Defensible_Space</th>\n",
       "      <th>Roofing_Material</th>\n",
       "      <th>Building_Exterior</th>\n",
       "      <th>Other_Combustibles</th>\n",
       "      <th>Decks_and_Fencing</th>\n",
       "      <th>Proximity_to_Neighboring_Home</th>\n",
       "      <th>Ingress_Egress</th>\n",
       "      <th>Score_Final</th>\n",
       "      <th>Risk_Rating</th>\n",
       "      <th>geometry</th>\n",
       "    </tr>\n",
       "  </thead>\n",
       "  <tbody>\n",
       "    <tr>\n",
       "      <th>976</th>\n",
       "      <td>2013.0</td>\n",
       "      <td>123 EXAMPLE DRIVE</td>\n",
       "      <td>430506210001</td>\n",
       "      <td>A</td>\n",
       "      <td>0</td>\n",
       "      <td>5</td>\n",
       "      <td>NaN</td>\n",
       "      <td>0</td>\n",
       "      <td>NaN</td>\n",
       "      <td>75</td>\n",
       "      <td>75</td>\n",
       "      <td>0</td>\n",
       "      <td>0</td>\n",
       "      <td>10</td>\n",
       "      <td>50</td>\n",
       "      <td>NaN</td>\n",
       "      <td>10</td>\n",
       "      <td>225</td>\n",
       "      <td>High</td>\n",
       "      <td>POINT Z (-107.79564 38.18671 0)</td>\n",
       "    </tr>\n",
       "    <tr>\n",
       "      <th>977</th>\n",
       "      <td>2013.0</td>\n",
       "      <td>129 EXAMPLE DRIVE</td>\n",
       "      <td>430506210001</td>\n",
       "      <td>A</td>\n",
       "      <td>0</td>\n",
       "      <td>5</td>\n",
       "      <td>NaN</td>\n",
       "      <td>0</td>\n",
       "      <td>NaN</td>\n",
       "      <td>50</td>\n",
       "      <td>50</td>\n",
       "      <td>0</td>\n",
       "      <td>20</td>\n",
       "      <td>10</td>\n",
       "      <td>0</td>\n",
       "      <td>NaN</td>\n",
       "      <td>0</td>\n",
       "      <td>135</td>\n",
       "      <td>Low</td>\n",
       "      <td>POINT Z (-107.79564 38.18671 0)</td>\n",
       "    </tr>\n",
       "    <tr>\n",
       "      <th>978</th>\n",
       "      <td>2013.0</td>\n",
       "      <td>135 EXAMPLE DRIVE</td>\n",
       "      <td>430506210001</td>\n",
       "      <td>A</td>\n",
       "      <td>0</td>\n",
       "      <td>5</td>\n",
       "      <td>NaN</td>\n",
       "      <td>75</td>\n",
       "      <td>NaN</td>\n",
       "      <td>50</td>\n",
       "      <td>100</td>\n",
       "      <td>0</td>\n",
       "      <td>60</td>\n",
       "      <td>10</td>\n",
       "      <td>50</td>\n",
       "      <td>NaN</td>\n",
       "      <td>10</td>\n",
       "      <td>360</td>\n",
       "      <td>Extreme</td>\n",
       "      <td>POINT Z (-107.79564 38.18671 0)</td>\n",
       "    </tr>\n",
       "    <tr>\n",
       "      <th>979</th>\n",
       "      <td>2013.0</td>\n",
       "      <td>141 EXAMPLE DRIVE</td>\n",
       "      <td>430506210001</td>\n",
       "      <td>A</td>\n",
       "      <td>0</td>\n",
       "      <td>0</td>\n",
       "      <td>NaN</td>\n",
       "      <td>0</td>\n",
       "      <td>NaN</td>\n",
       "      <td>50</td>\n",
       "      <td>75</td>\n",
       "      <td>200</td>\n",
       "      <td>60</td>\n",
       "      <td>30</td>\n",
       "      <td>0</td>\n",
       "      <td>NaN</td>\n",
       "      <td>0</td>\n",
       "      <td>415</td>\n",
       "      <td>Extreme</td>\n",
       "      <td>POINT Z (-107.79564 38.18671 0)</td>\n",
       "    </tr>\n",
       "    <tr>\n",
       "      <th>4082</th>\n",
       "      <td>2017.0</td>\n",
       "      <td>416 COUNTY ROAD 22A</td>\n",
       "      <td>403935100181</td>\n",
       "      <td>B</td>\n",
       "      <td>5</td>\n",
       "      <td>0</td>\n",
       "      <td>NaN</td>\n",
       "      <td>0</td>\n",
       "      <td>0.0</td>\n",
       "      <td>25</td>\n",
       "      <td>50</td>\n",
       "      <td>0</td>\n",
       "      <td>0</td>\n",
       "      <td>0</td>\n",
       "      <td>20</td>\n",
       "      <td>NaN</td>\n",
       "      <td>0</td>\n",
       "      <td>100</td>\n",
       "      <td>Low</td>\n",
       "      <td>POINT Z (-107.82372 38.28947 0)</td>\n",
       "    </tr>\n",
       "  </tbody>\n",
       "</table>\n",
       "</div>"
      ],
      "text/plain": [
       "        Year              address     ParcelNum Model  Address_Visible  \\\n",
       "976   2013.0    123 EXAMPLE DRIVE  430506210001     A                0   \n",
       "977   2013.0    129 EXAMPLE DRIVE  430506210001     A                0   \n",
       "978   2013.0    135 EXAMPLE DRIVE  430506210001     A                0   \n",
       "979   2013.0    141 EXAMPLE DRIVE  430506210001     A                0   \n",
       "4082  2017.0  416 COUNTY ROAD 22A  403935100181     B                5   \n",
       "\n",
       "      Driveway_Clearance  Driveway_Lenth  Dist_to_Danger_Topo  Slope_Final  \\\n",
       "976                    5             NaN                    0          NaN   \n",
       "977                    5             NaN                    0          NaN   \n",
       "978                    5             NaN                   75          NaN   \n",
       "979                    0             NaN                    0          NaN   \n",
       "4082                   0             NaN                    0          0.0   \n",
       "\n",
       "      Background_Fuels  Defensible_Space  Roofing_Material  Building_Exterior  \\\n",
       "976                 75                75                 0                  0   \n",
       "977                 50                50                 0                 20   \n",
       "978                 50               100                 0                 60   \n",
       "979                 50                75               200                 60   \n",
       "4082                25                50                 0                  0   \n",
       "\n",
       "      Other_Combustibles  Decks_and_Fencing  Proximity_to_Neighboring_Home  \\\n",
       "976                   10                 50                            NaN   \n",
       "977                   10                  0                            NaN   \n",
       "978                   10                 50                            NaN   \n",
       "979                   30                  0                            NaN   \n",
       "4082                   0                 20                            NaN   \n",
       "\n",
       "      Ingress_Egress  Score_Final Risk_Rating                         geometry  \n",
       "976               10          225        High  POINT Z (-107.79564 38.18671 0)  \n",
       "977                0          135         Low  POINT Z (-107.79564 38.18671 0)  \n",
       "978               10          360     Extreme  POINT Z (-107.79564 38.18671 0)  \n",
       "979                0          415     Extreme  POINT Z (-107.79564 38.18671 0)  \n",
       "4082               0          100         Low  POINT Z (-107.82372 38.28947 0)  "
      ]
     },
     "execution_count": 37,
     "metadata": {},
     "output_type": "execute_result"
    }
   ],
   "source": [
    "wrwc_gdf_ouray.head()"
   ]
  },
  {
   "cell_type": "code",
   "execution_count": 38,
   "metadata": {},
   "outputs": [
    {
     "data": {
      "text/plain": [
       "1017"
      ]
     },
     "execution_count": 38,
     "metadata": {},
     "output_type": "execute_result"
    }
   ],
   "source": [
    "len(wrwc_gdf_ouray)"
   ]
  },
  {
   "cell_type": "code",
   "execution_count": 39,
   "metadata": {},
   "outputs": [
    {
     "data": {
      "text/plain": [
       "930"
      ]
     },
     "execution_count": 39,
     "metadata": {},
     "output_type": "execute_result"
    }
   ],
   "source": [
    "wrwc_gdf_ouray['ParcelNum'].nunique()"
   ]
  },
  {
   "cell_type": "code",
   "execution_count": 40,
   "metadata": {},
   "outputs": [
    {
     "data": {
      "text/plain": [
       "586"
      ]
     },
     "execution_count": 40,
     "metadata": {},
     "output_type": "execute_result"
    }
   ],
   "source": [
    "wrwc_gdf_ouray['address'].nunique()"
   ]
  },
  {
   "cell_type": "code",
   "execution_count": 50,
   "metadata": {},
   "outputs": [
    {
     "data": {
      "text/plain": [
       "1004"
      ]
     },
     "execution_count": 50,
     "metadata": {},
     "output_type": "execute_result"
    }
   ],
   "source": [
    "wrwc_gdf_ouray['geometry'].nunique()"
   ]
  },
  {
   "cell_type": "markdown",
   "metadata": {},
   "source": [
    "The workflow I intend to perform is this: \n",
    "- First, I would like to explore the spatial distributions of risk score data. I would like to see the correlation of different variables to the final risk scores, and see where homes are at higher risk. \n",
    "- Next, I would like to join the risk score data to the features that I created, joining by parcel number. Then I would like to explore correlations between my variables and WRWC variables. \n",
    "- Then I would like to see if I can predict risk scores or risk ratings using only my variables."
   ]
  },
  {
   "cell_type": "code",
   "execution_count": null,
   "metadata": {},
   "outputs": [],
   "source": []
  },
  {
   "cell_type": "markdown",
   "metadata": {},
   "source": [
    "#### Random Forest classifier\n",
    "We will split the data into training, validation, and testing. We will create a random forest classifier and train it then test on val data while tuning the model params. "
   ]
  },
  {
   "cell_type": "code",
   "execution_count": null,
   "metadata": {},
   "outputs": [],
   "source": [
    "# Predicitons with Random Forest\n",
    "# CREATE A TRAIN-TEST SPLIT AND FIT A RF CLASSIFIER\n",
    "from sklearn.ensemble import RandomForestClassifier\n",
    "from sklearn.model_selection import train_test_split\n",
    "from sklearn.metrics import accuracy_score, classification_report\n",
    "\n",
    "# Select predictors and target variable\n",
    "predictors = df[['predictor_column1', 'predictor_column2', 'predictor_column3']]\n",
    "target = df['RISK.SCORE']\n",
    "\n",
    "# Split the data into training and testing sets\n",
    "X_train, X_test, y_train, y_test = train_test_split(predictors, target, test_size=0.2, random_state=42)\n",
    "\n",
    "# Create a random forest classifier\n",
    "rf_classifier = RandomForestClassifier(n_estimators=100, random_state=42)\n",
    "\n",
    "# Fit the model on the training data\n",
    "rf_classifier.fit(X_train, y_train)\n",
    "\n",
    "# Make predictions on the test data\n",
    "y_pred = rf_classifier.predict(X_test)\n",
    "\n",
    "# Evaluate the model\n",
    "accuracy = accuracy_score(y_test, y_pred)\n",
    "print(f'Accuracy: {accuracy:.2f}')\n",
    "\n",
    "# Print classification report\n",
    "print(classification_report(y_test, y_pred))"
   ]
  },
  {
   "cell_type": "markdown",
   "metadata": {},
   "source": [
    "## Validation"
   ]
  },
  {
   "cell_type": "markdown",
   "metadata": {},
   "source": [
    "Let's create a confusion matrix of prediction labels and true labels and plot it in a heat map to visualize how close we came."
   ]
  },
  {
   "cell_type": "code",
   "execution_count": null,
   "metadata": {},
   "outputs": [],
   "source": []
  },
  {
   "cell_type": "markdown",
   "metadata": {},
   "source": [
    "We will get precision, recall and f1 score for each class."
   ]
  },
  {
   "cell_type": "code",
   "execution_count": null,
   "metadata": {},
   "outputs": [],
   "source": []
  },
  {
   "cell_type": "markdown",
   "metadata": {},
   "source": [
    "Let's produce an ROC curve for each class in the model"
   ]
  },
  {
   "cell_type": "code",
   "execution_count": null,
   "metadata": {},
   "outputs": [],
   "source": []
  },
  {
   "cell_type": "markdown",
   "metadata": {},
   "source": [
    "## Ordinal analysis\n",
    "Let's convert the target variable to ordinal. Then we can create a confusion matrix and extract the cumulative metrics. Then we extract the cumulative precision across ordinal classes."
   ]
  },
  {
   "cell_type": "markdown",
   "metadata": {},
   "source": [
    "## Classification by Logistic Regression\n",
    "\n",
    "Here we import the data and plot to see whether logistic regression is appropriate for the analysis. We do this with continuous variables."
   ]
  },
  {
   "cell_type": "code",
   "execution_count": null,
   "metadata": {},
   "outputs": [],
   "source": [
    "import pandas as pd\n",
    "import numpy as np\n",
    "from sklearn.model_selection import StratifiedShuffleSplit as strat\n",
    "import matplotlib.pyplot as plt\n",
    "\n",
    "# Read the data into the script\n",
    "df = pd.read_csv('A3_Q1_data.csv')\n",
    "\n",
    "# Convert df to numpy array\n",
    "data = df.values\n",
    "\n",
    "# Extract features and labels\n",
    "X = data[:, :-1]  # Features x_1 and x_2\n",
    "y = data[:, -1]   # Labels y\n",
    "\n",
    "# Create stratified split\n",
    "split = strat(n_splits=1, test_size=0.3, random_state=42)\n",
    "\n",
    "# Perform the split\n",
    "for train_index, test_index in split.split(X, y):\n",
    "    X_train, X_test = X[train_index], X[test_index]\n",
    "    y_train, y_test = y[train_index], y[test_index]\n",
    "\n",
    "# See the split outcome for confirmation\n",
    "print(\"X_train shape:\", X_train.shape)\n",
    "print(\"X_test shape:\", X_test.shape)\n",
    "print(\"y_train shape:\", y_train.shape)\n",
    "print(\"y_test shape:\", y_test.shape)\n",
    "\n",
    "# Plot the training data by class\n",
    "plt.scatter(X_train[y_train == 0, 0], X_train[y_train == 0, 1], color='orchid', label='Class 0')\n",
    "plt.scatter(X_train[y_train == 1, 0], X_train[y_train == 1, 1], color='steelblue', label='Class 1')\n",
    "\n",
    "plt.xlabel('Feature x_1')\n",
    "plt.ylabel('Feature x_2')\n",
    "plt.title('Training Data by Class')\n",
    "plt.legend()\n",
    "plt.show()"
   ]
  },
  {
   "cell_type": "code",
   "execution_count": null,
   "metadata": {},
   "outputs": [],
   "source": [
    "# Calculations for x_1\n",
    "x1_mean = np.mean(X_train[:, 0])\n",
    "x1_std = np.std(X_train[:, 0])\n",
    "x1_range = np.ptp(X_train[:, 0])\n",
    "\n",
    "# Calculations for x_2\n",
    "x2_mean = np.mean(X_train[:, 1])\n",
    "x2_std = np.std(X_train[:, 1])\n",
    "x2_range = np.ptp(X_train[:, 1])\n",
    "\n",
    "# Print the results\n",
    "print(\"Feature x_1:\")\n",
    "print(f\"Mean: {x1_mean: .4f}, Standard Deviation: {x1_std: .4f}, Range: {x1_range: .4f}\")\n",
    "print(\"\\nFeature x_2:\")\n",
    "print(f\"Mean: {x2_mean: .4f}, Standard Deviation: {x2_std: .4f}, Range: {x2_range: .4f}\")"
   ]
  },
  {
   "cell_type": "markdown",
   "metadata": {},
   "source": [
    "If logistic regression is appropriate for this analysis, refer to  assignment 3 for fitting, gradient descent, AUC and precision-recall."
   ]
  }
 ],
 "metadata": {
  "kernelspec": {
   "display_name": "parcel",
   "language": "python",
   "name": "python3"
  },
  "language_info": {
   "codemirror_mode": {
    "name": "ipython",
    "version": 3
   },
   "file_extension": ".py",
   "mimetype": "text/x-python",
   "name": "python",
   "nbconvert_exporter": "python",
   "pygments_lexer": "ipython3",
   "version": "3.13.1"
  }
 },
 "nbformat": 4,
 "nbformat_minor": 2
}
