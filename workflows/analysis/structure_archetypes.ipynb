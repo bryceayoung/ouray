{
 "cells": [
  {
   "cell_type": "markdown",
   "metadata": {},
   "source": [
    "# Structure Archetypes - Ouray County Parcel Risk\n",
    "**Author:** Bryce A Young  \n",
    "**Created:** 2025-03-10 | \n",
    "**Modified:** 2025-03-10  \n",
    "\n",
    "#### Overview\n",
    "In this notebook, I analyze the clusters created in `clustering.ipynb`, also located in this repository. Analysis is unstructured. The objective is to pull out salient features that describe clusters in the dataset. The final product should be a set of home archetypes that can be described broadly (e.g. old homes with high structure density, large homes with wooden roofs on large properties, etc.). Ideally, I would be able to assign each structure type a range of fuel volumes that the structure and its defensible space can assume (this will make my segmentation more applicable to WUI fire spread modeling).\n",
    "\n",
    "I analyze cluster segmentation by HIZ and structure features. I describe segmented clusters. I join the clusters to the building geopackage to map structure locations by cluster (this last part is conducted in ArcGIS Pro).\n",
    "\n",
    "## Environment Setup\n",
    "---"
   ]
  },
  {
   "cell_type": "code",
   "execution_count": 1,
   "metadata": {},
   "outputs": [
    {
     "data": {
      "text/plain": [
       "'D:\\\\_PROJECTS\\\\P001_OurayParcel\\\\ouray'"
      ]
     },
     "execution_count": 1,
     "metadata": {},
     "output_type": "execute_result"
    }
   ],
   "source": [
    "# setup environment\n",
    "import os\n",
    "### Directory ###\n",
    "# Repository\n",
    "os.chdir(r'D:/_PROJECTS/P001_OurayParcel/ouray')\n",
    "# Root workspace\n",
    "ws = r'D:/_PROJECTS/P001_OurayParcel'\n",
    "\n",
    "### Data paths ###\n",
    "# Folder where all the data inputs and outputs will live\n",
    "data = os.path.join(ws, 'data')\n",
    "# Scratch folder for intermediate files\n",
    "scratch = os.path.join(data, '_temp')\n",
    "# Any final outputs go here\n",
    "out = os.path.join(data, '_out')\n",
    "# Figures to export\n",
    "figs = os.path.join(out, 'figures')\n",
    "\n",
    "# correct working directory\n",
    "os.getcwd()"
   ]
  },
  {
   "cell_type": "code",
   "execution_count": 3,
   "metadata": {},
   "outputs": [
    {
     "data": {
      "text/plain": [
       "Index(['Unnamed: 0', 'rwra_index', 'feat_index', 'parcel_num', 'Year',\n",
       "       'address', 'ParcelNum', 'Model', 'Address_Visible',\n",
       "       'Driveway_Clearance', 'Driveway_Lenth', 'Dist_to_Danger_Topo',\n",
       "       'Slope_Final', 'Background_Fuels', 'Defensible_Space',\n",
       "       'Roofing_Material', 'Building_Exterior', 'Other_Combustibles',\n",
       "       'Decks_and_Fencing', 'Proximity_to_Neighboring_Home', 'Ingress_Egress',\n",
       "       'Score_Final', 'Risk_Rating', 'County', 'wui_class', 'min_ssd',\n",
       "       'mean_cc0_2m', 'mean_cc2_4m', 'mean_cc4_8m', 'mean_cc8_40m',\n",
       "       'intersections', 'PARCELNB', 'ACCOUNT', 'ACRES_calc', 'hiz_ext_out',\n",
       "       'tax_AIRC', 'tax_ARCH', 'tax_SQFT', 'tax_COND', 'tax_EYB',\n",
       "       'tax_EXW_PERCENT', 'tax_EXW', 'tax_FLR', 'tax_FRME', 'tax_HTFL',\n",
       "       'tax_INT', 'tax_RMS', 'tax_RCVR', 'tax_RSTR', 'Type', 'sum_cc',\n",
       "       'tax_WBL', 'tax_DGR', 'tax_PTO', 'tax_OPP', 'Risk_Rating_new',\n",
       "       'At_Least_8_Unobserved', 'wui_class_3', 'wui_class_5', 'wui_class_6',\n",
       "       'tax_ARCH_COMMERCIAL', 'tax_ARCH_CUSTOM', 'tax_ARCH_LOG',\n",
       "       'tax_ARCH_MANUFACTURED', 'tax_ARCH_MULTI FAMILY',\n",
       "       'tax_ARCH_MULTI STORY', 'tax_ARCH_SINGLE STORY', 'tax_EXW_MANFCTD',\n",
       "       'tax_EXW_WOOD', 'tax_RCVR_METAL', 'tax_RCVR_OTHER', 'tax_RCVR_TILE',\n",
       "       'tax_RCVR_WOOD', 'tax_RSTR_MANSARD', 'tax_RSTR_MULTI_PEAK',\n",
       "       'tax_RSTR_OTHER', 'tax_RSTR_SHED', 'fc2m', 'fc4m', 'fc8m', 'fc8m+',\n",
       "       'intsc_class', 'acre_class', 'sqft_class', 'ssd_class', 'eyb_class',\n",
       "       'cluster_spc12', 'cluster_spc10', 'cluster_dbscan'],\n",
       "      dtype='object')"
      ]
     },
     "execution_count": 3,
     "metadata": {},
     "output_type": "execute_result"
    }
   ],
   "source": [
    "import pandas as pd\n",
    "\n",
    "pd.set_option('display.max_columns', None)\n",
    "\n",
    "full_df = pd.read_csv(os.path.join(out, 'df_feat_clusters.csv'))\n",
    "full_df.columns"
   ]
  },
  {
   "cell_type": "code",
   "execution_count": null,
   "metadata": {},
   "outputs": [],
   "source": [
    "df = full_df['']"
   ]
  }
 ],
 "metadata": {
  "kernelspec": {
   "display_name": "parcel",
   "language": "python",
   "name": "python3"
  },
  "language_info": {
   "codemirror_mode": {
    "name": "ipython",
    "version": 3
   },
   "file_extension": ".py",
   "mimetype": "text/x-python",
   "name": "python",
   "nbconvert_exporter": "python",
   "pygments_lexer": "ipython3",
   "version": "3.13.1"
  }
 },
 "nbformat": 4,
 "nbformat_minor": 2
}
