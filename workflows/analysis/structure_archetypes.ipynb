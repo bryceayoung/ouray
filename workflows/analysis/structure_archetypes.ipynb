{
 "cells": [
  {
   "cell_type": "markdown",
   "metadata": {},
   "source": [
    "# Structure Archetypes - Ouray County Parcel Risk\n",
    "**Author:** Bryce A Young  \n",
    "**Created:** 2025-03-10 | \n",
    "**Modified:** 2025-03-10  \n",
    "\n",
    "#### Overview\n",
    "In this notebook, I analyze the clusters created in `clustering.ipynb`, also located in this repository. Analysis is unstructured.\n",
    "\n",
    "I analyze cluster segmentation by HIZ and structure features. I describe segmented clusters. I join the clusters to the building geopackage to map structure locations by cluster (this last part is conducted in ArcGIS Pro).\n",
    "\n",
    "## Environment Setup\n",
    "---"
   ]
  },
  {
   "cell_type": "code",
   "execution_count": 1,
   "metadata": {},
   "outputs": [
    {
     "data": {
      "text/plain": [
       "'D:\\\\_PROJECTS\\\\P001_OurayParcel\\\\ouray'"
      ]
     },
     "execution_count": 1,
     "metadata": {},
     "output_type": "execute_result"
    }
   ],
   "source": [
    "# setup environment\n",
    "import os\n",
    "### Directory ###\n",
    "# Repository\n",
    "os.chdir(r'D:/_PROJECTS/P001_OurayParcel/ouray')\n",
    "# Root workspace\n",
    "ws = r'D:/_PROJECTS/P001_OurayParcel'\n",
    "\n",
    "### Data paths ###\n",
    "# Folder where all the data inputs and outputs will live\n",
    "data = os.path.join(ws, 'data')\n",
    "# Scratch folder for intermediate files\n",
    "scratch = os.path.join(data, '_temp')\n",
    "# Any final outputs go here\n",
    "out = os.path.join(data, '_out')\n",
    "# Figures to export\n",
    "figs = os.path.join(out, 'figures')\n",
    "\n",
    "# correct working directory\n",
    "os.getcwd()"
   ]
  }
 ],
 "metadata": {
  "kernelspec": {
   "display_name": "parcel",
   "language": "python",
   "name": "python3"
  },
  "language_info": {
   "codemirror_mode": {
    "name": "ipython",
    "version": 3
   },
   "file_extension": ".py",
   "mimetype": "text/x-python",
   "name": "python",
   "nbconvert_exporter": "python",
   "pygments_lexer": "ipython3",
   "version": "3.13.1"
  }
 },
 "nbformat": 4,
 "nbformat_minor": 2
}
