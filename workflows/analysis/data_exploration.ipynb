{
 "cells": [
  {
   "cell_type": "markdown",
   "metadata": {},
   "source": [
    "# Data Exploration - Ouray County Parcvel Risk\n",
    "**Author:** Bryce A Young  \n",
    "**Created:** 2025-01-17 | \n",
    "**Modified:** 2025-01-17  \n",
    "\n",
    "#### Overview\n",
    "In the notebooks contained under the `data_prep` folder of this repository, we prepared raster, vector, and tabular data for analysis through extensive cleaning. In the `hiz` folder of this repository, the notebooks contain code for finding and summarizing raster values within the HIZ of each home, then appending that to the shapefiles. In this `analysis` folder, we finally get to see what the data is capable of producing.\n",
    "\n",
    "This notebook explores relationships between variables in order to describe them for my thesis. "
   ]
  }
 ],
 "metadata": {
  "language_info": {
   "name": "python"
  }
 },
 "nbformat": 4,
 "nbformat_minor": 2
}
